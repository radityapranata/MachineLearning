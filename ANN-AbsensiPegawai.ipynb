{
 "cells": [
  {
   "cell_type": "markdown",
   "metadata": {},
   "source": [
    "<a id = '4.11'></a>\n",
    "<p style = \"font-size : 34px; color : #fed049 ; font-family : 'Comic Sans MS'; text-align : center; background-color : #007580; border-radius: 5px 5px;\"><strong>\n",
    "TUGAS UTS SISTEM CERDAS<br>\n",
    "SEMESTER 2 THN 2024<br>\n",
    "</strong></p> \n",
    "<h4>\n",
    "<b>DOSEN PENGAMPU : Ir. Noor Akhmad Setiawan, S.T., M.T., Ph.D., IPM.</b><br><br>\n",
    "NIM : 23/524967/PTK/15293<br>\n",
    "NAMA : RADITYA ARIZAL PRANATA<br>\n",
    "MATA KULIAH : SISTEM CERDAS</h4>"
   ]
  },
  {
   "cell_type": "markdown",
   "metadata": {},
   "source": [
    "<p style = \"font-size : 35px; color : #34656d ; font-family : 'Comic Sans MS'; text-align : center; background-color : #f9b208; border-radius: 5px 5px;\"><strong>PREDIKSI KEHADIRAN PEGAWAI TEPAT WAKTU</strong></p> "
   ]
  },
  {
   "cell_type": "code",
   "execution_count": 46,
   "metadata": {},
   "outputs": [],
   "source": [
    "import numpy as np # linear algebra\n",
    "import pandas as pd # data processing\n",
    "\n",
    "import matplotlib.pyplot as plt\n",
    "from sklearn.model_selection import train_test_split\n",
    "import seaborn as sns\n",
    "\n",
    "pd.options.display.max_colwidth = 200\n",
    "import plotly.express as px\n",
    "\n",
    "import warnings\n",
    "warnings.filterwarnings('ignore')"
   ]
  },
  {
   "cell_type": "code",
   "execution_count": 47,
   "metadata": {},
   "outputs": [
    {
     "name": "stdout",
     "output_type": "stream",
     "text": [
      "         pernr                           name  Telat  Lembur  personnel_area  \\\n",
      "0     97193811        FARADIBA FAJAR RAMADHAN      0       1            3400   \n",
      "1     97193811        FARADIBA FAJAR RAMADHAN      1       0            3400   \n",
      "2     98203805                SAYUTI ABDILLAH      0       0            3400   \n",
      "3     84083804               DANU ARI NUGROHO      0       0            3400   \n",
      "4     95163801  ACHMAD FIRMANSYAH MEIDI PUTRA      0       0            3400   \n",
      "...        ...                            ...    ...     ...             ...   \n",
      "9690  90103811             BAGUS BUDI MARTONO      0       0            3400   \n",
      "9691  90103811             BAGUS BUDI MARTONO      0       0            3400   \n",
      "9692  70923828                   RUDY SANTOSO      0       0            3400   \n",
      "9693  70923828                   RUDY SANTOSO      0       0            3400   \n",
      "9694  83043824              DWI AGUS PRIHATIN      0       0            3400   \n",
      "\n",
      "      personnel_sub_area personnel_sub_area_name personnel_area_name  \\\n",
      "0                   2202              ULP NGAGEL           UID JATIM   \n",
      "1                   2202              ULP NGAGEL           UID JATIM   \n",
      "2                   2201            ULP GEDANGAN           UID JATIM   \n",
      "3                   2202              ULP NGAGEL           UID JATIM   \n",
      "4                   2200             UP3 SBY SEL           UID JATIM   \n",
      "...                  ...                     ...                 ...   \n",
      "9690                2200             UP3 SBY SEL           UID JATIM   \n",
      "9691                2200             UP3 SBY SEL           UID JATIM   \n",
      "9692                2203         ULP DARMO PRMAI           UID JATIM   \n",
      "9693                2203         ULP DARMO PRMAI           UID JATIM   \n",
      "9694                2200             UP3 SBY SEL           UID JATIM   \n",
      "\n",
      "           type  org_unit description      time        date    status  \\\n",
      "0     CLOCK_OUT  10069336           -  22:33:10  2024-01-01  APPROVED   \n",
      "1      CLOCK_IN  10069336           -  10:36:00  2024-01-01  APPROVED   \n",
      "2      CLOCK_IN  10069328           -  00:33:19  2024-01-02  APPROVED   \n",
      "3      CLOCK_IN  10050813           -  01:22:59  2024-01-02  APPROVED   \n",
      "4      CLOCK_IN  10047152           -  05:50:45  2024-01-02  APPROVED   \n",
      "...         ...       ...         ...       ...         ...       ...   \n",
      "9690  CLOCK_OUT  10050815           -  16:15:34  2024-02-26  APPROVED   \n",
      "9691  CLOCK_OUT  10050815           -  16:15:49  2024-02-26  APPROVED   \n",
      "9692  CLOCK_OUT  10069337           -  16:22:30  2024-02-26  APPROVED   \n",
      "9693   CLOCK_IN  10069337           -  07:27:15  2024-02-27  APPROVED   \n",
      "9694   CLOCK_IN  10047152           -  06:52:47  2024-02-27  APPROVED   \n",
      "\n",
      "       longitude  latitude  range  atasan_pernr              atasan_name  \\\n",
      "0     112.749824 -7.289038     35      84083804         DANU ARI NUGROHO   \n",
      "1     112.750241 -7.289059     58      84083804         DANU ARI NUGROHO   \n",
      "2     112.727597 -7.374048     29      89093839  EKA YULIANA PURNAMASARI   \n",
      "3     112.749850 -7.288757     63      73943821      DIDIT TRI WICAKSONO   \n",
      "4     112.749665 -7.288363    108      84043810            EKO WIJAYANTO   \n",
      "...          ...       ...    ...           ...                      ...   \n",
      "9690  112.749737 -7.288846     70      89093868       NARKO DWI PRASETYO   \n",
      "9691  112.749727 -7.288850     70      89093868       NARKO DWI PRASETYO   \n",
      "9692  112.684119 -7.275644      8      92163800               RIO APERTA   \n",
      "9693  112.684191 -7.275776      9      92163800               RIO APERTA   \n",
      "9694  112.750042 -7.289081     31      84043810            EKO WIJAYANTO   \n",
      "\n",
      "               created_at  \n",
      "0     2024-01-01 22:33:10  \n",
      "1     2024-01-01 22:40:18  \n",
      "2     2024-01-02 00:33:19  \n",
      "3     2024-01-02 01:22:59  \n",
      "4     2024-01-02 05:50:45  \n",
      "...                   ...  \n",
      "9690  2024-03-27 07:26:57  \n",
      "9691  2024-03-27 07:26:59  \n",
      "9692  2024-04-01 12:52:56  \n",
      "9693  2024-04-01 12:52:57  \n",
      "9694  2024-04-05 20:25:38  \n",
      "\n",
      "[9695 rows x 20 columns]\n"
     ]
    }
   ],
   "source": [
    "# Baca dataset\n",
    "df = pd.read_excel(r'D:\\UP3 SBS\\2021-2023\\SDM.TAD\\SDM\\PENDIDIKAN FORMAL\\PTB Radit 2023\\00. MTI UGM\\Semester 2\\05. SISTEM CERDAS - NAS, SAI\\TUGAS UTS\\dataset_absensi_tw1_tahun2024.xlsx')\n",
    "print(df)"
   ]
  },
  {
   "cell_type": "code",
   "execution_count": 48,
   "metadata": {},
   "outputs": [
    {
     "name": "stdout",
     "output_type": "stream",
     "text": [
      "<class 'pandas.core.frame.DataFrame'>\n",
      "RangeIndex: 9695 entries, 0 to 9694\n",
      "Data columns (total 20 columns):\n",
      " #   Column                   Non-Null Count  Dtype  \n",
      "---  ------                   --------------  -----  \n",
      " 0   pernr                    9695 non-null   int64  \n",
      " 1   name                     9695 non-null   object \n",
      " 2   Telat                    9695 non-null   int64  \n",
      " 3   Lembur                   9695 non-null   int64  \n",
      " 4   personnel_area           9695 non-null   int64  \n",
      " 5   personnel_sub_area       9695 non-null   int64  \n",
      " 6   personnel_sub_area_name  9695 non-null   object \n",
      " 7   personnel_area_name      9695 non-null   object \n",
      " 8   type                     9695 non-null   object \n",
      " 9   org_unit                 9695 non-null   int64  \n",
      " 10  description              9695 non-null   object \n",
      " 11  time                     9695 non-null   object \n",
      " 12  date                     9695 non-null   object \n",
      " 13  status                   9695 non-null   object \n",
      " 14  longitude                9695 non-null   float64\n",
      " 15  latitude                 9695 non-null   float64\n",
      " 16  range                    9695 non-null   int64  \n",
      " 17  atasan_pernr             9695 non-null   int64  \n",
      " 18  atasan_name              9695 non-null   object \n",
      " 19  created_at               9695 non-null   object \n",
      "dtypes: float64(2), int64(8), object(10)\n",
      "memory usage: 1.5+ MB\n"
     ]
    }
   ],
   "source": [
    "df.info()"
   ]
  },
  {
   "cell_type": "code",
   "execution_count": 49,
   "metadata": {},
   "outputs": [
    {
     "data": {
      "text/html": [
       "<div>\n",
       "<style scoped>\n",
       "    .dataframe tbody tr th:only-of-type {\n",
       "        vertical-align: middle;\n",
       "    }\n",
       "\n",
       "    .dataframe tbody tr th {\n",
       "        vertical-align: top;\n",
       "    }\n",
       "\n",
       "    .dataframe thead th {\n",
       "        text-align: right;\n",
       "    }\n",
       "</style>\n",
       "<table border=\"1\" class=\"dataframe\">\n",
       "  <thead>\n",
       "    <tr style=\"text-align: right;\">\n",
       "      <th></th>\n",
       "      <th>pernr</th>\n",
       "      <th>Telat</th>\n",
       "      <th>Lembur</th>\n",
       "      <th>personnel_area</th>\n",
       "      <th>personnel_sub_area</th>\n",
       "      <th>org_unit</th>\n",
       "      <th>longitude</th>\n",
       "      <th>latitude</th>\n",
       "      <th>range</th>\n",
       "      <th>atasan_pernr</th>\n",
       "    </tr>\n",
       "  </thead>\n",
       "  <tbody>\n",
       "    <tr>\n",
       "      <th>count</th>\n",
       "      <td>9.695000e+03</td>\n",
       "      <td>9695.00000</td>\n",
       "      <td>9695.000000</td>\n",
       "      <td>9695.0</td>\n",
       "      <td>9695.000000</td>\n",
       "      <td>9.695000e+03</td>\n",
       "      <td>9695.000000</td>\n",
       "      <td>9695.000000</td>\n",
       "      <td>9.695000e+03</td>\n",
       "      <td>9.695000e+03</td>\n",
       "    </tr>\n",
       "    <tr>\n",
       "      <th>mean</th>\n",
       "      <td>8.534019e+07</td>\n",
       "      <td>0.05704</td>\n",
       "      <td>0.179268</td>\n",
       "      <td>3400.0</td>\n",
       "      <td>2201.450748</td>\n",
       "      <td>1.028257e+07</td>\n",
       "      <td>111.856206</td>\n",
       "      <td>-7.249458</td>\n",
       "      <td>1.526625e+03</td>\n",
       "      <td>8.354429e+07</td>\n",
       "    </tr>\n",
       "    <tr>\n",
       "      <th>std</th>\n",
       "      <td>9.339920e+06</td>\n",
       "      <td>0.23193</td>\n",
       "      <td>0.383596</td>\n",
       "      <td>0.0</td>\n",
       "      <td>1.805598</td>\n",
       "      <td>1.238165e+06</td>\n",
       "      <td>9.879810</td>\n",
       "      <td>0.649046</td>\n",
       "      <td>2.517149e+04</td>\n",
       "      <td>6.828059e+06</td>\n",
       "    </tr>\n",
       "    <tr>\n",
       "      <th>min</th>\n",
       "      <td>6.891380e+07</td>\n",
       "      <td>0.00000</td>\n",
       "      <td>0.000000</td>\n",
       "      <td>3400.0</td>\n",
       "      <td>2200.000000</td>\n",
       "      <td>1.004708e+07</td>\n",
       "      <td>0.000000</td>\n",
       "      <td>-8.838305</td>\n",
       "      <td>0.000000e+00</td>\n",
       "      <td>6.891381e+07</td>\n",
       "    </tr>\n",
       "    <tr>\n",
       "      <th>25%</th>\n",
       "      <td>7.692380e+07</td>\n",
       "      <td>0.00000</td>\n",
       "      <td>0.000000</td>\n",
       "      <td>3400.0</td>\n",
       "      <td>2200.000000</td>\n",
       "      <td>1.004711e+07</td>\n",
       "      <td>112.727625</td>\n",
       "      <td>-7.290189</td>\n",
       "      <td>2.000000e+01</td>\n",
       "      <td>7.906140e+07</td>\n",
       "    </tr>\n",
       "    <tr>\n",
       "      <th>50%</th>\n",
       "      <td>8.808100e+07</td>\n",
       "      <td>0.00000</td>\n",
       "      <td>0.000000</td>\n",
       "      <td>3400.0</td>\n",
       "      <td>2200.000000</td>\n",
       "      <td>1.004766e+07</td>\n",
       "      <td>112.749716</td>\n",
       "      <td>-7.288844</td>\n",
       "      <td>5.600000e+01</td>\n",
       "      <td>8.509381e+07</td>\n",
       "    </tr>\n",
       "    <tr>\n",
       "      <th>75%</th>\n",
       "      <td>9.218380e+07</td>\n",
       "      <td>0.00000</td>\n",
       "      <td>0.000000</td>\n",
       "      <td>3400.0</td>\n",
       "      <td>2203.000000</td>\n",
       "      <td>1.004778e+07</td>\n",
       "      <td>112.749907</td>\n",
       "      <td>-7.288440</td>\n",
       "      <td>9.400000e+01</td>\n",
       "      <td>8.909384e+07</td>\n",
       "    </tr>\n",
       "    <tr>\n",
       "      <th>max</th>\n",
       "      <td>9.917380e+07</td>\n",
       "      <td>1.00000</td>\n",
       "      <td>1.000000</td>\n",
       "      <td>3400.0</td>\n",
       "      <td>2205.000000</td>\n",
       "      <td>1.730069e+07</td>\n",
       "      <td>127.379302</td>\n",
       "      <td>0.791894</td>\n",
       "      <td>1.854072e+06</td>\n",
       "      <td>9.717385e+07</td>\n",
       "    </tr>\n",
       "  </tbody>\n",
       "</table>\n",
       "</div>"
      ],
      "text/plain": [
       "              pernr       Telat       Lembur  personnel_area  \\\n",
       "count  9.695000e+03  9695.00000  9695.000000          9695.0   \n",
       "mean   8.534019e+07     0.05704     0.179268          3400.0   \n",
       "std    9.339920e+06     0.23193     0.383596             0.0   \n",
       "min    6.891380e+07     0.00000     0.000000          3400.0   \n",
       "25%    7.692380e+07     0.00000     0.000000          3400.0   \n",
       "50%    8.808100e+07     0.00000     0.000000          3400.0   \n",
       "75%    9.218380e+07     0.00000     0.000000          3400.0   \n",
       "max    9.917380e+07     1.00000     1.000000          3400.0   \n",
       "\n",
       "       personnel_sub_area      org_unit    longitude     latitude  \\\n",
       "count         9695.000000  9.695000e+03  9695.000000  9695.000000   \n",
       "mean          2201.450748  1.028257e+07   111.856206    -7.249458   \n",
       "std              1.805598  1.238165e+06     9.879810     0.649046   \n",
       "min           2200.000000  1.004708e+07     0.000000    -8.838305   \n",
       "25%           2200.000000  1.004711e+07   112.727625    -7.290189   \n",
       "50%           2200.000000  1.004766e+07   112.749716    -7.288844   \n",
       "75%           2203.000000  1.004778e+07   112.749907    -7.288440   \n",
       "max           2205.000000  1.730069e+07   127.379302     0.791894   \n",
       "\n",
       "              range  atasan_pernr  \n",
       "count  9.695000e+03  9.695000e+03  \n",
       "mean   1.526625e+03  8.354429e+07  \n",
       "std    2.517149e+04  6.828059e+06  \n",
       "min    0.000000e+00  6.891381e+07  \n",
       "25%    2.000000e+01  7.906140e+07  \n",
       "50%    5.600000e+01  8.509381e+07  \n",
       "75%    9.400000e+01  8.909384e+07  \n",
       "max    1.854072e+06  9.717385e+07  "
      ]
     },
     "execution_count": 49,
     "metadata": {},
     "output_type": "execute_result"
    }
   ],
   "source": [
    "df.describe()"
   ]
  },
  {
   "cell_type": "code",
   "execution_count": 50,
   "metadata": {},
   "outputs": [
    {
     "name": "stdout",
     "output_type": "stream",
     "text": [
      "                       pernr     Telat    Lembur  personnel_area  \\\n",
      "pernr               1.000000 -0.044844  0.151949             NaN   \n",
      "Telat              -0.044844  1.000000 -0.114946             NaN   \n",
      "Lembur              0.151949 -0.114946  1.000000             NaN   \n",
      "personnel_area           NaN       NaN       NaN             NaN   \n",
      "personnel_sub_area  0.026113  0.021858  0.038962             NaN   \n",
      "org_unit            0.012144 -0.019854  0.006473             NaN   \n",
      "longitude          -0.045370  0.001633  0.019808             NaN   \n",
      "latitude            0.048409 -0.006770 -0.021805             NaN   \n",
      "range               0.000591 -0.003873 -0.000299             NaN   \n",
      "atasan_pernr        0.250804 -0.017871  0.062462             NaN   \n",
      "\n",
      "                    personnel_sub_area  org_unit  longitude  latitude  \\\n",
      "pernr                         0.026113  0.012144  -0.045370  0.048409   \n",
      "Telat                         0.021858 -0.019854   0.001633 -0.006770   \n",
      "Lembur                        0.038962  0.006473   0.019808 -0.021805   \n",
      "personnel_area                     NaN       NaN        NaN       NaN   \n",
      "personnel_sub_area            1.000000 -0.009953  -0.124544  0.121237   \n",
      "org_unit                     -0.009953  1.000000   0.017089 -0.009419   \n",
      "longitude                    -0.124544  0.017089   1.000000 -0.984422   \n",
      "latitude                      0.121237 -0.009419  -0.984422  1.000000   \n",
      "range                        -0.013873 -0.008687   0.012025  0.068315   \n",
      "atasan_pernr                  0.333122 -0.180306  -0.137884  0.131411   \n",
      "\n",
      "                       range  atasan_pernr  \n",
      "pernr               0.000591      0.250804  \n",
      "Telat              -0.003873     -0.017871  \n",
      "Lembur             -0.000299      0.062462  \n",
      "personnel_area           NaN           NaN  \n",
      "personnel_sub_area -0.013873      0.333122  \n",
      "org_unit           -0.008687     -0.180306  \n",
      "longitude           0.012025     -0.137884  \n",
      "latitude            0.068315      0.131411  \n",
      "range               1.000000      0.000288  \n",
      "atasan_pernr        0.000288      1.000000  \n"
     ]
    }
   ],
   "source": [
    "print(df.corr(numeric_only=True))"
   ]
  },
  {
   "cell_type": "code",
   "execution_count": 51,
   "metadata": {},
   "outputs": [
    {
     "data": {
      "image/png": "[encoded data removed]",
      "text/plain": [
       "<Figure size 2400x1200 with 2 Axes>"
      ]
     },
     "metadata": {},
     "output_type": "display_data"
    }
   ],
   "source": [
    "plt.figure(figsize = (24, 12))\n",
    "corr = df.corr(numeric_only=True)\n",
    "sns.heatmap(corr, annot = True, linewidths = 1)\n",
    "plt.show()"
   ]
  },
  {
   "cell_type": "code",
   "execution_count": 52,
   "metadata": {},
   "outputs": [
    {
     "data": {
      "text/plain": [
       "Telat                 1.000000\n",
       "Lembur                0.114946\n",
       "pernr                 0.044844\n",
       "personnel_sub_area    0.021858\n",
       "org_unit              0.019854\n",
       "atasan_pernr          0.017871\n",
       "latitude              0.006770\n",
       "range                 0.003873\n",
       "longitude             0.001633\n",
       "personnel_area             NaN\n",
       "Name: Telat, dtype: float64"
      ]
     },
     "execution_count": 52,
     "metadata": {},
     "output_type": "execute_result"
    }
   ],
   "source": [
    "correlation = df.corr(numeric_only=True)['Telat'].abs().sort_values(ascending = False)\n",
    "correlation"
   ]
  },
  {
   "cell_type": "code",
   "execution_count": 53,
   "metadata": {},
   "outputs": [
    {
     "data": {
      "text/plain": [
       "['name',\n",
       " 'personnel_sub_area_name',\n",
       " 'personnel_area_name',\n",
       " 'type',\n",
       " 'description',\n",
       " 'time',\n",
       " 'date',\n",
       " 'status',\n",
       " 'atasan_name',\n",
       " 'created_at']"
      ]
     },
     "execution_count": 53,
     "metadata": {},
     "output_type": "execute_result"
    }
   ],
   "source": [
    "# creating numerical and categorical dataframes\n",
    "cat_cols = [col for col in df.columns if df[col].dtype == 'O']\n",
    "cat_cols"
   ]
  },
  {
   "cell_type": "code",
   "execution_count": 54,
   "metadata": {},
   "outputs": [
    {
     "data": {
      "text/html": [
       "<div>\n",
       "<style scoped>\n",
       "    .dataframe tbody tr th:only-of-type {\n",
       "        vertical-align: middle;\n",
       "    }\n",
       "\n",
       "    .dataframe tbody tr th {\n",
       "        vertical-align: top;\n",
       "    }\n",
       "\n",
       "    .dataframe thead th {\n",
       "        text-align: right;\n",
       "    }\n",
       "</style>\n",
       "<table border=\"1\" class=\"dataframe\">\n",
       "  <thead>\n",
       "    <tr style=\"text-align: right;\">\n",
       "      <th></th>\n",
       "      <th>name</th>\n",
       "      <th>personnel_sub_area_name</th>\n",
       "      <th>personnel_area_name</th>\n",
       "      <th>type</th>\n",
       "      <th>description</th>\n",
       "      <th>time</th>\n",
       "      <th>date</th>\n",
       "      <th>status</th>\n",
       "      <th>atasan_name</th>\n",
       "      <th>created_at</th>\n",
       "    </tr>\n",
       "  </thead>\n",
       "  <tbody>\n",
       "    <tr>\n",
       "      <th>0</th>\n",
       "      <td>FARADIBA FAJAR RAMADHAN</td>\n",
       "      <td>ULP NGAGEL</td>\n",
       "      <td>UID JATIM</td>\n",
       "      <td>CLOCK_OUT</td>\n",
       "      <td>-</td>\n",
       "      <td>22:33:10</td>\n",
       "      <td>2024-01-01</td>\n",
       "      <td>APPROVED</td>\n",
       "      <td>DANU ARI NUGROHO</td>\n",
       "      <td>2024-01-01 22:33:10</td>\n",
       "    </tr>\n",
       "    <tr>\n",
       "      <th>1</th>\n",
       "      <td>FARADIBA FAJAR RAMADHAN</td>\n",
       "      <td>ULP NGAGEL</td>\n",
       "      <td>UID JATIM</td>\n",
       "      <td>CLOCK_IN</td>\n",
       "      <td>-</td>\n",
       "      <td>10:36:00</td>\n",
       "      <td>2024-01-01</td>\n",
       "      <td>APPROVED</td>\n",
       "      <td>DANU ARI NUGROHO</td>\n",
       "      <td>2024-01-01 22:40:18</td>\n",
       "    </tr>\n",
       "    <tr>\n",
       "      <th>2</th>\n",
       "      <td>SAYUTI ABDILLAH</td>\n",
       "      <td>ULP GEDANGAN</td>\n",
       "      <td>UID JATIM</td>\n",
       "      <td>CLOCK_IN</td>\n",
       "      <td>-</td>\n",
       "      <td>00:33:19</td>\n",
       "      <td>2024-01-02</td>\n",
       "      <td>APPROVED</td>\n",
       "      <td>EKA YULIANA PURNAMASARI</td>\n",
       "      <td>2024-01-02 00:33:19</td>\n",
       "    </tr>\n",
       "    <tr>\n",
       "      <th>3</th>\n",
       "      <td>DANU ARI NUGROHO</td>\n",
       "      <td>ULP NGAGEL</td>\n",
       "      <td>UID JATIM</td>\n",
       "      <td>CLOCK_IN</td>\n",
       "      <td>-</td>\n",
       "      <td>01:22:59</td>\n",
       "      <td>2024-01-02</td>\n",
       "      <td>APPROVED</td>\n",
       "      <td>DIDIT TRI WICAKSONO</td>\n",
       "      <td>2024-01-02 01:22:59</td>\n",
       "    </tr>\n",
       "    <tr>\n",
       "      <th>4</th>\n",
       "      <td>ACHMAD FIRMANSYAH MEIDI PUTRA</td>\n",
       "      <td>UP3 SBY SEL</td>\n",
       "      <td>UID JATIM</td>\n",
       "      <td>CLOCK_IN</td>\n",
       "      <td>-</td>\n",
       "      <td>05:50:45</td>\n",
       "      <td>2024-01-02</td>\n",
       "      <td>APPROVED</td>\n",
       "      <td>EKO WIJAYANTO</td>\n",
       "      <td>2024-01-02 05:50:45</td>\n",
       "    </tr>\n",
       "  </tbody>\n",
       "</table>\n",
       "</div>"
      ],
      "text/plain": [
       "                            name personnel_sub_area_name personnel_area_name  \\\n",
       "0        FARADIBA FAJAR RAMADHAN              ULP NGAGEL           UID JATIM   \n",
       "1        FARADIBA FAJAR RAMADHAN              ULP NGAGEL           UID JATIM   \n",
       "2                SAYUTI ABDILLAH            ULP GEDANGAN           UID JATIM   \n",
       "3               DANU ARI NUGROHO              ULP NGAGEL           UID JATIM   \n",
       "4  ACHMAD FIRMANSYAH MEIDI PUTRA             UP3 SBY SEL           UID JATIM   \n",
       "\n",
       "        type description      time        date    status  \\\n",
       "0  CLOCK_OUT           -  22:33:10  2024-01-01  APPROVED   \n",
       "1   CLOCK_IN           -  10:36:00  2024-01-01  APPROVED   \n",
       "2   CLOCK_IN           -  00:33:19  2024-01-02  APPROVED   \n",
       "3   CLOCK_IN           -  01:22:59  2024-01-02  APPROVED   \n",
       "4   CLOCK_IN           -  05:50:45  2024-01-02  APPROVED   \n",
       "\n",
       "               atasan_name           created_at  \n",
       "0         DANU ARI NUGROHO  2024-01-01 22:33:10  \n",
       "1         DANU ARI NUGROHO  2024-01-01 22:40:18  \n",
       "2  EKA YULIANA PURNAMASARI  2024-01-02 00:33:19  \n",
       "3      DIDIT TRI WICAKSONO  2024-01-02 01:22:59  \n",
       "4            EKO WIJAYANTO  2024-01-02 05:50:45  "
      ]
     },
     "execution_count": 54,
     "metadata": {},
     "output_type": "execute_result"
    }
   ],
   "source": [
    "cat_df = df[cat_cols]\n",
    "cat_df.head()"
   ]
  },
  {
   "cell_type": "code",
   "execution_count": 55,
   "metadata": {},
   "outputs": [],
   "source": [
    "cat_df['date'] = pd.to_datetime(cat_df['date'])\n",
    "cat_df['year'] = cat_df['date'].dt.year\n",
    "cat_df['month'] = cat_df['date'].dt.month\n",
    "cat_df['day'] = cat_df['date'].dt.day\n",
    "\n",
    "cat_df['time'] = pd.to_datetime(cat_df['time'])\n",
    "cat_df['hours'] = cat_df['time'].dt.hour\n",
    "cat_df['minutes'] = cat_df['time'].dt.minute\n",
    "cat_df['seconds'] = cat_df['time'].dt.second\n",
    "\n",
    "cat_df.drop(['date','time','description','atasan_name','created_at'] , axis = 1, inplace = True)"
   ]
  },
  {
   "cell_type": "code",
   "execution_count": 56,
   "metadata": {},
   "outputs": [
    {
     "data": {
      "text/html": [
       "<div>\n",
       "<style scoped>\n",
       "    .dataframe tbody tr th:only-of-type {\n",
       "        vertical-align: middle;\n",
       "    }\n",
       "\n",
       "    .dataframe tbody tr th {\n",
       "        vertical-align: top;\n",
       "    }\n",
       "\n",
       "    .dataframe thead th {\n",
       "        text-align: right;\n",
       "    }\n",
       "</style>\n",
       "<table border=\"1\" class=\"dataframe\">\n",
       "  <thead>\n",
       "    <tr style=\"text-align: right;\">\n",
       "      <th></th>\n",
       "      <th>name</th>\n",
       "      <th>personnel_sub_area_name</th>\n",
       "      <th>personnel_area_name</th>\n",
       "      <th>type</th>\n",
       "      <th>status</th>\n",
       "      <th>year</th>\n",
       "      <th>month</th>\n",
       "      <th>day</th>\n",
       "      <th>hours</th>\n",
       "      <th>minutes</th>\n",
       "      <th>seconds</th>\n",
       "    </tr>\n",
       "  </thead>\n",
       "  <tbody>\n",
       "    <tr>\n",
       "      <th>0</th>\n",
       "      <td>FARADIBA FAJAR RAMADHAN</td>\n",
       "      <td>ULP NGAGEL</td>\n",
       "      <td>UID JATIM</td>\n",
       "      <td>CLOCK_OUT</td>\n",
       "      <td>APPROVED</td>\n",
       "      <td>2024</td>\n",
       "      <td>1</td>\n",
       "      <td>1</td>\n",
       "      <td>22</td>\n",
       "      <td>33</td>\n",
       "      <td>10</td>\n",
       "    </tr>\n",
       "    <tr>\n",
       "      <th>1</th>\n",
       "      <td>FARADIBA FAJAR RAMADHAN</td>\n",
       "      <td>ULP NGAGEL</td>\n",
       "      <td>UID JATIM</td>\n",
       "      <td>CLOCK_IN</td>\n",
       "      <td>APPROVED</td>\n",
       "      <td>2024</td>\n",
       "      <td>1</td>\n",
       "      <td>1</td>\n",
       "      <td>10</td>\n",
       "      <td>36</td>\n",
       "      <td>0</td>\n",
       "    </tr>\n",
       "    <tr>\n",
       "      <th>2</th>\n",
       "      <td>SAYUTI ABDILLAH</td>\n",
       "      <td>ULP GEDANGAN</td>\n",
       "      <td>UID JATIM</td>\n",
       "      <td>CLOCK_IN</td>\n",
       "      <td>APPROVED</td>\n",
       "      <td>2024</td>\n",
       "      <td>1</td>\n",
       "      <td>2</td>\n",
       "      <td>0</td>\n",
       "      <td>33</td>\n",
       "      <td>19</td>\n",
       "    </tr>\n",
       "    <tr>\n",
       "      <th>3</th>\n",
       "      <td>DANU ARI NUGROHO</td>\n",
       "      <td>ULP NGAGEL</td>\n",
       "      <td>UID JATIM</td>\n",
       "      <td>CLOCK_IN</td>\n",
       "      <td>APPROVED</td>\n",
       "      <td>2024</td>\n",
       "      <td>1</td>\n",
       "      <td>2</td>\n",
       "      <td>1</td>\n",
       "      <td>22</td>\n",
       "      <td>59</td>\n",
       "    </tr>\n",
       "    <tr>\n",
       "      <th>4</th>\n",
       "      <td>ACHMAD FIRMANSYAH MEIDI PUTRA</td>\n",
       "      <td>UP3 SBY SEL</td>\n",
       "      <td>UID JATIM</td>\n",
       "      <td>CLOCK_IN</td>\n",
       "      <td>APPROVED</td>\n",
       "      <td>2024</td>\n",
       "      <td>1</td>\n",
       "      <td>2</td>\n",
       "      <td>5</td>\n",
       "      <td>50</td>\n",
       "      <td>45</td>\n",
       "    </tr>\n",
       "  </tbody>\n",
       "</table>\n",
       "</div>"
      ],
      "text/plain": [
       "                            name personnel_sub_area_name personnel_area_name  \\\n",
       "0        FARADIBA FAJAR RAMADHAN              ULP NGAGEL           UID JATIM   \n",
       "1        FARADIBA FAJAR RAMADHAN              ULP NGAGEL           UID JATIM   \n",
       "2                SAYUTI ABDILLAH            ULP GEDANGAN           UID JATIM   \n",
       "3               DANU ARI NUGROHO              ULP NGAGEL           UID JATIM   \n",
       "4  ACHMAD FIRMANSYAH MEIDI PUTRA             UP3 SBY SEL           UID JATIM   \n",
       "\n",
       "        type    status  year  month  day  hours  minutes  seconds  \n",
       "0  CLOCK_OUT  APPROVED  2024      1    1     22       33       10  \n",
       "1   CLOCK_IN  APPROVED  2024      1    1     10       36        0  \n",
       "2   CLOCK_IN  APPROVED  2024      1    2      0       33       19  \n",
       "3   CLOCK_IN  APPROVED  2024      1    2      1       22       59  \n",
       "4   CLOCK_IN  APPROVED  2024      1    2      5       50       45  "
      ]
     },
     "execution_count": 56,
     "metadata": {},
     "output_type": "execute_result"
    }
   ],
   "source": [
    "cat_df.head()"
   ]
  },
  {
   "cell_type": "code",
   "execution_count": 57,
   "metadata": {},
   "outputs": [
    {
     "name": "stdout",
     "output_type": "stream",
     "text": [
      "name: \n",
      "['FARADIBA FAJAR RAMADHAN' 'SAYUTI ABDILLAH' 'DANU ARI NUGROHO'\n",
      " 'ACHMAD FIRMANSYAH MEIDI PUTRA' 'AGENG SULISTIONO' 'FERY AGUS SETIAWAN'\n",
      " 'TOKIT ROMLI' 'PRIYONO DWI SANTOSO' 'RENALDO ADI PUTRA'\n",
      " 'ANANG DWI ALRIANTO' 'SUPRIYADI' 'BAYU INDRA TIRTANA'\n",
      " 'YUNAIDA SANDRA WARDANI' 'DEDE KURNIAKA' 'FUAD HASAN'\n",
      " 'FERDIAN DICKY YULIANZA' 'FATKHUR ROZI' 'MOCH. ARIF SAIFUDIN'\n",
      " 'RESA SADEWA EKA DAROINI' 'MUHAMMAD ABDUL WAHID' 'YOGI FEBRIANTO JAYADI'\n",
      " 'ZAINUL ABIDIN' 'RADITYA ARIZAL PRANATA' 'ANISA NOVITASARI'\n",
      " 'ROBEKA PRAHISTIN' 'SRI PURWORINI' 'PUDJI HARDIJANTI'\n",
      " 'FRENGKI INDRA BAYUNTORO' 'SHINTA PRAMIASIH' 'ARIF LUKMAN HAKIM'\n",
      " 'LUCYANA HARVIANTI' 'RENDYKA EGA PRASETYO' 'MUHAMMAD NUR HIDAYATULLAH'\n",
      " 'RIZKY HIDAYAT' 'KISMONO' 'DWI AGUS PRIHATIN' 'ARIESTA ARDININGSIH'\n",
      " 'RAKHMAT KAMARTA' 'ACHMAD RONI' 'ANTON BUDI SAPUTRO' 'RAHMAT RIYADI'\n",
      " 'MOCHAMAD ABDUL BASYID NURUL FAUZI' 'FARID SETYO WIBOWO' 'ELOK NASTITI'\n",
      " 'FIRDA ARIEFINIA' 'ROMI SETIADI' 'MOCHAMAD FARIS BAIHAQI'\n",
      " 'TEGUH PRASETYO' 'RIO APERTA' 'GATUT DIRGANTARA' 'CHOIRUL ARIFIN'\n",
      " 'M. DIYAR YASIN' 'ABDUL MUNIB' 'AHMAD KHOLILI ALI BURHAN' 'KRISNA SUTOPO'\n",
      " 'RENY YUNIAWATI' 'ADIN EKO FRISMANA' 'BRITISH SHIMAHERO'\n",
      " 'SATRIA SAIFUL ROHMAN' 'IWAN SATRIO CAHYONO' 'KUS SUPRIANTO'\n",
      " 'RIYAN EKO ARDIANTO' 'NARKO DWI PRASETYO' 'BAGUS BUDI MARTONO'\n",
      " 'MALTHUF ALFATA' 'RUDY SANTOSO' 'WAHYU PRIADI' 'HERAWATI WAHYUNINGSIH'\n",
      " 'TYAS ARIYUNAR RAHMA' 'ENY YULI ASTUTIK' 'SYAFIRA BELLA ISLAMI'\n",
      " 'ZULFIKAR EKA TITA' 'MASRURI SAHAR' 'EKA YULI ROSANAWATI'\n",
      " 'SARWO HADI WIBOWO' 'ZANUAR KUSTARUDIN' 'HERA YOLANDARI BARUS'\n",
      " 'EKA YULIANA PURNAMASARI' 'RUSTAM BACHTIAR' 'NUNUK ANGGORO PAMULARSIH'\n",
      " 'ENY ENDARYANTI' 'EKO WIJAYANTO' 'ARGITYA RISGIANANDA' 'RIZA PRIMADONA'\n",
      " 'MIFTAKHUR ROZIQ MAHMI DESY' 'EKOWATI YULIASTINI' 'AULIA KURNIAWAN'\n",
      " 'ARYANTO' 'MUHAMMAD FAJAR ISLAM' 'HENDY HERNAWAN' 'DIAN NOVITASARI S'\n",
      " 'MELINDA NUR ARDIANI' 'MOCHAMAD RUSDIONO' 'NANCY ALLORERUNG'\n",
      " 'ALANFI SYAHBANA' 'EFRILIA EKA KARTIKA SARI' 'YENNY SUGIYONO SUYADI'\n",
      " 'MERRYSKHE LELA' 'RIZKY SETYAWAN' 'HARRY CHRISTANTO'\n",
      " 'RIZKI AULIA RATNANI' 'DEWI RATNA PRATIWI' 'VORY GOES BARTHA SITRA'\n",
      " 'DIKY SAMBUDO' 'REZA MAULANA NUR HIDAYAT' 'MOCHAMAD MAKRUF'\n",
      " 'GUGUS SUDARWANTO' 'BLANDINA AUDREY PANGGABEAN' 'AULIA NOVIANI'\n",
      " 'MARICHA LIKINIA' 'FIKKA PRATIWI' 'ARDIK CRISDIANTO'\n",
      " 'PUTRA SURYA PRIBADI' 'BOY EBI YOSEP TAMBA' 'TEGOEH SETIAWAN' 'NURHAYATI'\n",
      " 'FAYGA OKTAWINANTI' 'BAGUS SETYAWAN DARMANTO' 'LINTA UNTSA SIFA DHANA'\n",
      " 'MAGHFIRATUL QOLBIYAH' 'FRAN SINTA SURYANI' \"HIMMATUL A'IMMAH\"\n",
      " 'FERA HARTOYO']\n",
      "\n",
      "personnel_sub_area_name: \n",
      "['ULP NGAGEL' 'ULP GEDANGAN' 'UP3 SBY SEL' 'ULP DARMO PRMAI' 'ULP RUNGKUT'\n",
      " 'ULP DUKUH KPG']\n",
      "\n",
      "personnel_area_name: \n",
      "['UID JATIM']\n",
      "\n",
      "type: \n",
      "['CLOCK_OUT' 'CLOCK_IN']\n",
      "\n",
      "status: \n",
      "['APPROVED' 'REJECT' 'NEED APPROVAL']\n",
      "\n",
      "year: \n",
      "[2024]\n",
      "\n",
      "month: \n",
      "[1 2]\n",
      "\n",
      "day: \n",
      "[ 1  2  3  4  5  6  8  9 10 11 12 13 15 16 17 18 19 22 23 24 25 26 27 29\n",
      " 30 31  7 20 14 21 28]\n",
      "\n",
      "hours: \n",
      "[22 10  0  1  5  6  7  8 16  9 17 18 19 20 21 23 13 15 12 14  4  3 11  2]\n",
      "\n",
      "minutes: \n",
      "[33 36 22 50 57 16 18 25 27 30 32 35 40 41 45 52 53 58 59  0  1  2  4  6\n",
      "  8  9 10 11 12 13 14 15 17 19 20 23 24 26 28 29 31 37 44  5  3  7 39 42\n",
      " 43 47 48 56 38 34 55 51 21 46 49 54]\n",
      "\n",
      "seconds: \n",
      "[10  0 19 59 45  6 28 55 30 32 12  1 43 57 40 26 49 18 58  5 52  2 29 44\n",
      " 11 42 47 38 21 25 33 46 31 37 53 16 56 36 48 54  3 22 14 15 39  7  8 35\n",
      " 34  9 41 27 17 50 13 23 51  4 24 20]\n",
      "\n"
     ]
    }
   ],
   "source": [
    "# printing unique values of each column\n",
    "for col in cat_df.columns:\n",
    "    print(f\"{col}: \\n{cat_df[col].unique()}\\n\")"
   ]
  },
  {
   "cell_type": "code",
   "execution_count": 58,
   "metadata": {},
   "outputs": [],
   "source": [
    "# convert to number\n",
    "cat_df['name'] = cat_df['name'].map({\n",
    "    \"FARADIBA FAJAR RAMADHAN\" : 0,\n",
    "    \"SAYUTI ABDILLAH\" : 1,\n",
    "    \"DANU ARI NUGROHO\" : 2,\n",
    "    \"ACHMAD FIRMANSYAH MEIDI PUTRA\" : 3,\n",
    "    \"AGENG SULISTIONO\" : 4,\n",
    "    \"FERY AGUS SETIAWAN\" : 5,\n",
    "    \"TOKIT ROMLI\" : 6,\n",
    "    \"PRIYONO DWI SANTOSO\" : 7,\n",
    "    \"RENALDO ADI PUTRA\" : 8,\n",
    "    \"ANANG DWI ALRIANTO\" : 9,\n",
    "    \"SUPRIYADI\" : 10,\n",
    "    \"BAYU INDRA TIRTANA\" : 11,\n",
    "    \"YUNAIDA SANDRA WARDANI\" : 12,\n",
    "    \"DEDE KURNIAKA\" : 13,\n",
    "    \"FUAD HASAN\" : 14,\n",
    "    \"FERDIAN DICKY YULIANZA\" : 15,\n",
    "    \"FATKHUR ROZI\" : 16,\n",
    "    \"MOCH. ARIF SAIFUDIN\" : 17,\n",
    "    \"RESA SADEWA EKA DAROINI\" : 18,\n",
    "    \"MUHAMMAD ABDUL WAHID\" : 19,\n",
    "    \"YOGI FEBRIANTO JAYADI\" : 20,\n",
    "    \"ZAINUL ABIDIN\" : 21,\n",
    "    \"RADITYA ARIZAL PRANATA\" : 22,\n",
    "    \"ANISA NOVITASARI\" : 23,\n",
    "    \"ROBEKA PRAHISTIN\" : 24,\n",
    "    \"SRI PURWORINI\" : 25,\n",
    "    \"PUDJI HARDIJANTI\" : 26,\n",
    "    \"FRENGKI INDRA BAYUNTORO\" : 27,\n",
    "    \"SHINTA PRAMIASIH\" : 28,\n",
    "    \"ARIF LUKMAN HAKIM\" : 29,\n",
    "    \"LUCYANA HARVIANTI\" : 30,\n",
    "    \"RENDYKA EGA PRASETYO\" : 31,\n",
    "    \"MUHAMMAD NUR HIDAYATULLAH\" : 32,\n",
    "    \"RIZKY HIDAYAT\" : 33,\n",
    "    \"KISMONO\" : 34,\n",
    "    \"DWI AGUS PRIHATIN\" : 35,\n",
    "    \"ARIESTA ARDININGSIH\" : 36,\n",
    "    \"RAKHMAT KAMARTA\" : 37,\n",
    "    \"ACHMAD RONI\" : 38,\n",
    "    \"ANTON BUDI SAPUTRO\" : 39,\n",
    "    \"RAHMAT RIYADI\" : 40,\n",
    "    \"MOCHAMAD ABDUL BASYID NURUL FAUZI\" : 41,\n",
    "    \"FARID SETYO WIBOWO\" : 42,\n",
    "    \"ELOK NASTITI\" : 43,\n",
    "    \"FIRDA ARIEFINIA\" : 44,\n",
    "    \"ROMI SETIADI\" : 45,\n",
    "    \"MOCHAMAD FARIS BAIHAQI\" : 46,\n",
    "    \"TEGUH PRASETYO\" : 47,\n",
    "    \"RIO APERTA\" : 48,\n",
    "    \"GATUT DIRGANTARA\" : 49,\n",
    "    \"CHOIRUL ARIFIN\" : 50,\n",
    "    \"M. DIYAR YASIN\" : 51,\n",
    "    \"ABDUL MUNIB\" : 52,\n",
    "    \"AHMAD KHOLILI ALI BURHAN\" : 53,\n",
    "    \"KRISNA SUTOPO\" : 54,\n",
    "    \"RENY YUNIAWATI\" : 55,\n",
    "    \"ADIN EKO FRISMANA\" : 56,\n",
    "    \"BRITISH SHIMAHERO\" : 57,\n",
    "    \"SATRIA SAIFUL ROHMAN\" : 58,\n",
    "    \"IWAN SATRIO CAHYONO\" : 59,\n",
    "    \"KUS SUPRIANTO\" : 60,\n",
    "    \"RIYAN EKO ARDIANTO\" : 61,\n",
    "    \"NARKO DWI PRASETYO\" : 62,\n",
    "    \"BAGUS BUDI MARTONO\" : 63,\n",
    "    \"MALTHUF ALFATA\" : 64,\n",
    "    \"RUDY SANTOSO\" : 65,\n",
    "    \"WAHYU PRIADI\" : 66,\n",
    "    \"HERAWATI WAHYUNINGSIH\" : 67,\n",
    "    \"TYAS ARIYUNAR RAHMA\" : 68,\n",
    "    \"ENY YULI ASTUTIK\" : 69,\n",
    "    \"SYAFIRA BELLA ISLAMI\" : 70,\n",
    "    \"ZULFIKAR EKA TITA\" : 71,\n",
    "    \"MASRURI SAHAR\" : 72,\n",
    "    \"EKA YULI ROSANAWATI\" : 73,\n",
    "    \"SARWO HADI WIBOWO\" : 74,\n",
    "    \"ZANUAR KUSTARUDIN\" : 75,\n",
    "    \"HERA YOLANDARI BARUS\" : 76,\n",
    "    \"EKA YULIANA PURNAMASARI\" : 77,\n",
    "    \"RUSTAM BACHTIAR\" : 78,\n",
    "    \"NUNUK ANGGORO PAMULARSIH\" : 79,\n",
    "    \"ENY ENDARYANTI\" : 80,\n",
    "    \"EKO WIJAYANTO\" : 81,\n",
    "    \"ARGITYA RISGIANANDA\" : 82,\n",
    "    \"RIZA PRIMADONA\" : 83,\n",
    "    \"MIFTAKHUR ROZIQ MAHMI DESY\" : 84,\n",
    "    \"EKOWATI YULIASTINI\" : 85,\n",
    "    \"AULIA KURNIAWAN\" : 86,\n",
    "    \"ARYANTO\" : 87,\n",
    "    \"MUHAMMAD FAJAR ISLAM\" : 88,\n",
    "    \"HENDY HERNAWAN\" : 89,\n",
    "    \"DIAN NOVITASARI S\" : 90,\n",
    "    \"MELINDA NUR ARDIANI\" : 91,\n",
    "    \"MOCHAMAD RUSDIONO\" : 92,\n",
    "    \"NANCY ALLORERUNG\" : 93,\n",
    "    \"ALANFI SYAHBANA\" : 94,\n",
    "    \"EFRILIA EKA KARTIKA SARI\" : 95,\n",
    "    \"YENNY SUGIYONO SUYADI\" : 96,\n",
    "    \"MERRYSKHE LELA\" : 97,\n",
    "    \"RIZKY SETYAWAN\" : 98,\n",
    "    \"HARRY CHRISTANTO\" : 99,\n",
    "    \"RIZKI AULIA RATNANI\" : 100,\n",
    "    \"DEWI RATNA PRATIWI\" : 101,\n",
    "    \"VORY GOES BARTHA SITRA\" : 102,\n",
    "    \"DIKY SAMBUDO\" : 103,\n",
    "    \"REZA MAULANA NUR HIDAYAT\" : 104,\n",
    "    \"MOCHAMAD MAKRUF\" : 105,\n",
    "    \"GUGUS SUDARWANTO\" : 106,\n",
    "    \"BLANDINA AUDREY PANGGABEAN\" : 107,\n",
    "    \"AULIA NOVIANI\" : 108,\n",
    "    \"MARICHA LIKINIA\" : 109,\n",
    "    \"FIKKA PRATIWI\" : 110,\n",
    "    \"ARDIK CRISDIANTO\" : 111,\n",
    "    \"PUTRA SURYA PRIBADI\" : 112,\n",
    "    \"BOY EBI YOSEP TAMBA\" : 113,\n",
    "    \"TEGOEH SETIAWAN\" : 114,\n",
    "    \"NURHAYATI\" : 115,\n",
    "    \"FAYGA OKTAWINANTI\" : 116,\n",
    "    \"BAGUS SETYAWAN DARMANTO\" : 117,\n",
    "    \"LINTA UNTSA SIFA DHANA\" : 118,\n",
    "    \"MAGHFIRATUL QOLBIYAH\" : 119,\n",
    "    \"FRAN SINTA SURYANI\" : 120,\n",
    "    \"HIMMATUL A'IMMAH\" : 121,\n",
    "    \"FERA HARTOYO\" : 122\n",
    "    })\n",
    "cat_df['personnel_area_name'] = cat_df['personnel_area_name'].map({'UID JATIM': 0})\n",
    "cat_df['personnel_sub_area_name'] = cat_df['personnel_sub_area_name'].map({   \n",
    "    \"UP3 SBY SEL\" : 0, \n",
    "    \"ULP GEDANGAN\" : 1,\n",
    "    \"ULP DARMO PRMAI\" : 2,\n",
    "    \"ULP DUKUH KPG\" : 3,\n",
    "    \"ULP NGAGEL\" : 4,\n",
    "    \"ULP RUNGKUT\" : 5\n",
    "    })\n",
    "cat_df['type'] = cat_df['type'].map({  \n",
    "    \"CLOCK_IN\" : 0,\n",
    "    \"CLOCK_OUT\" : 1 \n",
    "    })\n",
    "cat_df['status'] = cat_df['status'].map({    \n",
    "    \"APPROVED\" : 0,\n",
    "    \"NEED APPROVAL\" : 1,\n",
    "    \"REJECT\" : 2\n",
    "    })\n"
   ]
  },
  {
   "cell_type": "code",
   "execution_count": 59,
   "metadata": {},
   "outputs": [
    {
     "name": "stdout",
     "output_type": "stream",
     "text": [
      "      name  personnel_sub_area_name  personnel_area_name  type  status  year  \\\n",
      "0        0                        4                    0     1       0  2024   \n",
      "1        0                        4                    0     0       0  2024   \n",
      "2        1                        1                    0     0       0  2024   \n",
      "3        2                        4                    0     0       0  2024   \n",
      "4        3                        0                    0     0       0  2024   \n",
      "...    ...                      ...                  ...   ...     ...   ...   \n",
      "9690    63                        0                    0     1       0  2024   \n",
      "9691    63                        0                    0     1       0  2024   \n",
      "9692    65                        2                    0     1       0  2024   \n",
      "9693    65                        2                    0     0       0  2024   \n",
      "9694    35                        0                    0     0       0  2024   \n",
      "\n",
      "      month  day  hours  minutes  seconds  \n",
      "0         1    1     22       33       10  \n",
      "1         1    1     10       36        0  \n",
      "2         1    2      0       33       19  \n",
      "3         1    2      1       22       59  \n",
      "4         1    2      5       50       45  \n",
      "...     ...  ...    ...      ...      ...  \n",
      "9690      2   26     16       15       34  \n",
      "9691      2   26     16       15       49  \n",
      "9692      2   26     16       22       30  \n",
      "9693      2   27      7       27       15  \n",
      "9694      2   27      6       52       47  \n",
      "\n",
      "[9695 rows x 11 columns]\n"
     ]
    }
   ],
   "source": [
    "cat_df.head()\n",
    "print(cat_df)\n",
    "#cat_df.to_excel(r'D:\\UP3 SBS\\2021-2023\\SDM.TAD\\SDM\\PENDIDIKAN FORMAL\\PTB Radit 2023\\00. MTI UGM\\Semester 2\\05. SISTEM CERDAS - NAS, SAI\\TUGAS UTS\\DataProsesAbsen.xlsx', index=False)"
   ]
  },
  {
   "cell_type": "code",
   "execution_count": 60,
   "metadata": {},
   "outputs": [
    {
     "data": {
      "text/html": [
       "<div>\n",
       "<style scoped>\n",
       "    .dataframe tbody tr th:only-of-type {\n",
       "        vertical-align: middle;\n",
       "    }\n",
       "\n",
       "    .dataframe tbody tr th {\n",
       "        vertical-align: top;\n",
       "    }\n",
       "\n",
       "    .dataframe thead th {\n",
       "        text-align: right;\n",
       "    }\n",
       "</style>\n",
       "<table border=\"1\" class=\"dataframe\">\n",
       "  <thead>\n",
       "    <tr style=\"text-align: right;\">\n",
       "      <th></th>\n",
       "      <th>pernr</th>\n",
       "      <th>Lembur</th>\n",
       "      <th>personnel_area</th>\n",
       "      <th>personnel_sub_area</th>\n",
       "      <th>org_unit</th>\n",
       "      <th>longitude</th>\n",
       "      <th>latitude</th>\n",
       "      <th>range</th>\n",
       "      <th>atasan_pernr</th>\n",
       "    </tr>\n",
       "  </thead>\n",
       "  <tbody>\n",
       "    <tr>\n",
       "      <th>0</th>\n",
       "      <td>97193811</td>\n",
       "      <td>1</td>\n",
       "      <td>3400</td>\n",
       "      <td>2202</td>\n",
       "      <td>10069336</td>\n",
       "      <td>112.749824</td>\n",
       "      <td>-7.289038</td>\n",
       "      <td>35</td>\n",
       "      <td>84083804</td>\n",
       "    </tr>\n",
       "    <tr>\n",
       "      <th>1</th>\n",
       "      <td>97193811</td>\n",
       "      <td>0</td>\n",
       "      <td>3400</td>\n",
       "      <td>2202</td>\n",
       "      <td>10069336</td>\n",
       "      <td>112.750241</td>\n",
       "      <td>-7.289059</td>\n",
       "      <td>58</td>\n",
       "      <td>84083804</td>\n",
       "    </tr>\n",
       "    <tr>\n",
       "      <th>2</th>\n",
       "      <td>98203805</td>\n",
       "      <td>0</td>\n",
       "      <td>3400</td>\n",
       "      <td>2201</td>\n",
       "      <td>10069328</td>\n",
       "      <td>112.727597</td>\n",
       "      <td>-7.374048</td>\n",
       "      <td>29</td>\n",
       "      <td>89093839</td>\n",
       "    </tr>\n",
       "    <tr>\n",
       "      <th>3</th>\n",
       "      <td>84083804</td>\n",
       "      <td>0</td>\n",
       "      <td>3400</td>\n",
       "      <td>2202</td>\n",
       "      <td>10050813</td>\n",
       "      <td>112.749850</td>\n",
       "      <td>-7.288757</td>\n",
       "      <td>63</td>\n",
       "      <td>73943821</td>\n",
       "    </tr>\n",
       "    <tr>\n",
       "      <th>4</th>\n",
       "      <td>95163801</td>\n",
       "      <td>0</td>\n",
       "      <td>3400</td>\n",
       "      <td>2200</td>\n",
       "      <td>10047152</td>\n",
       "      <td>112.749665</td>\n",
       "      <td>-7.288363</td>\n",
       "      <td>108</td>\n",
       "      <td>84043810</td>\n",
       "    </tr>\n",
       "    <tr>\n",
       "      <th>...</th>\n",
       "      <td>...</td>\n",
       "      <td>...</td>\n",
       "      <td>...</td>\n",
       "      <td>...</td>\n",
       "      <td>...</td>\n",
       "      <td>...</td>\n",
       "      <td>...</td>\n",
       "      <td>...</td>\n",
       "      <td>...</td>\n",
       "    </tr>\n",
       "    <tr>\n",
       "      <th>9690</th>\n",
       "      <td>90103811</td>\n",
       "      <td>0</td>\n",
       "      <td>3400</td>\n",
       "      <td>2200</td>\n",
       "      <td>10050815</td>\n",
       "      <td>112.749737</td>\n",
       "      <td>-7.288846</td>\n",
       "      <td>70</td>\n",
       "      <td>89093868</td>\n",
       "    </tr>\n",
       "    <tr>\n",
       "      <th>9691</th>\n",
       "      <td>90103811</td>\n",
       "      <td>0</td>\n",
       "      <td>3400</td>\n",
       "      <td>2200</td>\n",
       "      <td>10050815</td>\n",
       "      <td>112.749727</td>\n",
       "      <td>-7.288850</td>\n",
       "      <td>70</td>\n",
       "      <td>89093868</td>\n",
       "    </tr>\n",
       "    <tr>\n",
       "      <th>9692</th>\n",
       "      <td>70923828</td>\n",
       "      <td>0</td>\n",
       "      <td>3400</td>\n",
       "      <td>2203</td>\n",
       "      <td>10069337</td>\n",
       "      <td>112.684119</td>\n",
       "      <td>-7.275644</td>\n",
       "      <td>8</td>\n",
       "      <td>92163800</td>\n",
       "    </tr>\n",
       "    <tr>\n",
       "      <th>9693</th>\n",
       "      <td>70923828</td>\n",
       "      <td>0</td>\n",
       "      <td>3400</td>\n",
       "      <td>2203</td>\n",
       "      <td>10069337</td>\n",
       "      <td>112.684191</td>\n",
       "      <td>-7.275776</td>\n",
       "      <td>9</td>\n",
       "      <td>92163800</td>\n",
       "    </tr>\n",
       "    <tr>\n",
       "      <th>9694</th>\n",
       "      <td>83043824</td>\n",
       "      <td>0</td>\n",
       "      <td>3400</td>\n",
       "      <td>2200</td>\n",
       "      <td>10047152</td>\n",
       "      <td>112.750042</td>\n",
       "      <td>-7.289081</td>\n",
       "      <td>31</td>\n",
       "      <td>84043810</td>\n",
       "    </tr>\n",
       "  </tbody>\n",
       "</table>\n",
       "<p>9695 rows × 9 columns</p>\n",
       "</div>"
      ],
      "text/plain": [
       "         pernr  Lembur  personnel_area  personnel_sub_area  org_unit  \\\n",
       "0     97193811       1            3400                2202  10069336   \n",
       "1     97193811       0            3400                2202  10069336   \n",
       "2     98203805       0            3400                2201  10069328   \n",
       "3     84083804       0            3400                2202  10050813   \n",
       "4     95163801       0            3400                2200  10047152   \n",
       "...        ...     ...             ...                 ...       ...   \n",
       "9690  90103811       0            3400                2200  10050815   \n",
       "9691  90103811       0            3400                2200  10050815   \n",
       "9692  70923828       0            3400                2203  10069337   \n",
       "9693  70923828       0            3400                2203  10069337   \n",
       "9694  83043824       0            3400                2200  10047152   \n",
       "\n",
       "       longitude  latitude  range  atasan_pernr  \n",
       "0     112.749824 -7.289038     35      84083804  \n",
       "1     112.750241 -7.289059     58      84083804  \n",
       "2     112.727597 -7.374048     29      89093839  \n",
       "3     112.749850 -7.288757     63      73943821  \n",
       "4     112.749665 -7.288363    108      84043810  \n",
       "...          ...       ...    ...           ...  \n",
       "9690  112.749737 -7.288846     70      89093868  \n",
       "9691  112.749727 -7.288850     70      89093868  \n",
       "9692  112.684119 -7.275644      8      92163800  \n",
       "9693  112.684191 -7.275776      9      92163800  \n",
       "9694  112.750042 -7.289081     31      84043810  \n",
       "\n",
       "[9695 rows x 9 columns]"
      ]
     },
     "execution_count": 60,
     "metadata": {},
     "output_type": "execute_result"
    }
   ],
   "source": [
    "num_df = df.drop(columns = cat_cols, axis = 1)\n",
    "num_df.drop('Telat', axis = 1, inplace = True)\n",
    "num_df"
   ]
  },
  {
   "cell_type": "code",
   "execution_count": 61,
   "metadata": {},
   "outputs": [
    {
     "data": {
      "text/plain": [
       "pernr                 8.723410e+13\n",
       "Lembur                1.471459e-01\n",
       "personnel_area        0.000000e+00\n",
       "personnel_sub_area    3.260185e+00\n",
       "org_unit              1.533052e+12\n",
       "longitude             9.761065e+01\n",
       "latitude              4.212608e-01\n",
       "range                 6.336038e+08\n",
       "atasan_pernr          4.662239e+13\n",
       "dtype: float64"
      ]
     },
     "execution_count": 61,
     "metadata": {},
     "output_type": "execute_result"
    }
   ],
   "source": [
    "num_df.var()"
   ]
  },
  {
   "cell_type": "code",
   "execution_count": 62,
   "metadata": {},
   "outputs": [],
   "source": [
    "X = pd.concat([cat_df, num_df], axis = 1)\n",
    "y = df['Telat']"
   ]
  },
  {
   "cell_type": "code",
   "execution_count": 63,
   "metadata": {},
   "outputs": [
    {
     "data": {
      "text/plain": [
       "((9695, 20), (9695,))"
      ]
     },
     "execution_count": 63,
     "metadata": {},
     "output_type": "execute_result"
    }
   ],
   "source": [
    "X.shape, y.shape"
   ]
  },
  {
   "cell_type": "code",
   "execution_count": 64,
   "metadata": {},
   "outputs": [],
   "source": [
    "# splitting data into training set and test set\n",
    "X_train, X_test, y_train, y_test = train_test_split(X, y, test_size = 0.30)"
   ]
  },
  {
   "cell_type": "code",
   "execution_count": 65,
   "metadata": {},
   "outputs": [
    {
     "data": {
      "text/html": [
       "<div>\n",
       "<style scoped>\n",
       "    .dataframe tbody tr th:only-of-type {\n",
       "        vertical-align: middle;\n",
       "    }\n",
       "\n",
       "    .dataframe tbody tr th {\n",
       "        vertical-align: top;\n",
       "    }\n",
       "\n",
       "    .dataframe thead th {\n",
       "        text-align: right;\n",
       "    }\n",
       "</style>\n",
       "<table border=\"1\" class=\"dataframe\">\n",
       "  <thead>\n",
       "    <tr style=\"text-align: right;\">\n",
       "      <th></th>\n",
       "      <th>name</th>\n",
       "      <th>personnel_sub_area_name</th>\n",
       "      <th>personnel_area_name</th>\n",
       "      <th>type</th>\n",
       "      <th>status</th>\n",
       "      <th>year</th>\n",
       "      <th>month</th>\n",
       "      <th>day</th>\n",
       "      <th>hours</th>\n",
       "      <th>minutes</th>\n",
       "      <th>seconds</th>\n",
       "      <th>pernr</th>\n",
       "      <th>Lembur</th>\n",
       "      <th>personnel_area</th>\n",
       "      <th>personnel_sub_area</th>\n",
       "      <th>org_unit</th>\n",
       "      <th>longitude</th>\n",
       "      <th>latitude</th>\n",
       "      <th>range</th>\n",
       "      <th>atasan_pernr</th>\n",
       "    </tr>\n",
       "  </thead>\n",
       "  <tbody>\n",
       "    <tr>\n",
       "      <th>4264</th>\n",
       "      <td>90</td>\n",
       "      <td>0</td>\n",
       "      <td>0</td>\n",
       "      <td>1</td>\n",
       "      <td>0</td>\n",
       "      <td>2024</td>\n",
       "      <td>1</td>\n",
       "      <td>26</td>\n",
       "      <td>16</td>\n",
       "      <td>30</td>\n",
       "      <td>18</td>\n",
       "      <td>89093862</td>\n",
       "      <td>0</td>\n",
       "      <td>3400</td>\n",
       "      <td>2200</td>\n",
       "      <td>10067727</td>\n",
       "      <td>112.749824</td>\n",
       "      <td>-7.288959</td>\n",
       "      <td>57</td>\n",
       "      <td>79061404</td>\n",
       "    </tr>\n",
       "    <tr>\n",
       "      <th>2884</th>\n",
       "      <td>69</td>\n",
       "      <td>4</td>\n",
       "      <td>0</td>\n",
       "      <td>1</td>\n",
       "      <td>0</td>\n",
       "      <td>2024</td>\n",
       "      <td>1</td>\n",
       "      <td>18</td>\n",
       "      <td>16</td>\n",
       "      <td>54</td>\n",
       "      <td>39</td>\n",
       "      <td>87105209</td>\n",
       "      <td>0</td>\n",
       "      <td>3400</td>\n",
       "      <td>2202</td>\n",
       "      <td>10047651</td>\n",
       "      <td>112.684404</td>\n",
       "      <td>-7.236567</td>\n",
       "      <td>24</td>\n",
       "      <td>79061404</td>\n",
       "    </tr>\n",
       "    <tr>\n",
       "      <th>8005</th>\n",
       "      <td>12</td>\n",
       "      <td>0</td>\n",
       "      <td>0</td>\n",
       "      <td>1</td>\n",
       "      <td>0</td>\n",
       "      <td>2024</td>\n",
       "      <td>2</td>\n",
       "      <td>21</td>\n",
       "      <td>16</td>\n",
       "      <td>12</td>\n",
       "      <td>0</td>\n",
       "      <td>95143817</td>\n",
       "      <td>0</td>\n",
       "      <td>3400</td>\n",
       "      <td>2200</td>\n",
       "      <td>10047152</td>\n",
       "      <td>112.749664</td>\n",
       "      <td>-7.288381</td>\n",
       "      <td>107</td>\n",
       "      <td>84043810</td>\n",
       "    </tr>\n",
       "    <tr>\n",
       "      <th>8613</th>\n",
       "      <td>1</td>\n",
       "      <td>1</td>\n",
       "      <td>0</td>\n",
       "      <td>0</td>\n",
       "      <td>0</td>\n",
       "      <td>2024</td>\n",
       "      <td>2</td>\n",
       "      <td>27</td>\n",
       "      <td>6</td>\n",
       "      <td>44</td>\n",
       "      <td>0</td>\n",
       "      <td>98203805</td>\n",
       "      <td>0</td>\n",
       "      <td>3400</td>\n",
       "      <td>2201</td>\n",
       "      <td>10069328</td>\n",
       "      <td>112.727565</td>\n",
       "      <td>-7.374042</td>\n",
       "      <td>33</td>\n",
       "      <td>89093839</td>\n",
       "    </tr>\n",
       "    <tr>\n",
       "      <th>7468</th>\n",
       "      <td>59</td>\n",
       "      <td>5</td>\n",
       "      <td>0</td>\n",
       "      <td>0</td>\n",
       "      <td>0</td>\n",
       "      <td>2024</td>\n",
       "      <td>2</td>\n",
       "      <td>20</td>\n",
       "      <td>7</td>\n",
       "      <td>16</td>\n",
       "      <td>19</td>\n",
       "      <td>85097409</td>\n",
       "      <td>0</td>\n",
       "      <td>3400</td>\n",
       "      <td>2205</td>\n",
       "      <td>10047660</td>\n",
       "      <td>112.752062</td>\n",
       "      <td>-7.336119</td>\n",
       "      <td>199</td>\n",
       "      <td>79061404</td>\n",
       "    </tr>\n",
       "  </tbody>\n",
       "</table>\n",
       "</div>"
      ],
      "text/plain": [
       "      name  personnel_sub_area_name  personnel_area_name  type  status  year  \\\n",
       "4264    90                        0                    0     1       0  2024   \n",
       "2884    69                        4                    0     1       0  2024   \n",
       "8005    12                        0                    0     1       0  2024   \n",
       "8613     1                        1                    0     0       0  2024   \n",
       "7468    59                        5                    0     0       0  2024   \n",
       "\n",
       "      month  day  hours  minutes  seconds     pernr  Lembur  personnel_area  \\\n",
       "4264      1   26     16       30       18  89093862       0            3400   \n",
       "2884      1   18     16       54       39  87105209       0            3400   \n",
       "8005      2   21     16       12        0  95143817       0            3400   \n",
       "8613      2   27      6       44        0  98203805       0            3400   \n",
       "7468      2   20      7       16       19  85097409       0            3400   \n",
       "\n",
       "      personnel_sub_area  org_unit   longitude  latitude  range  atasan_pernr  \n",
       "4264                2200  10067727  112.749824 -7.288959     57      79061404  \n",
       "2884                2202  10047651  112.684404 -7.236567     24      79061404  \n",
       "8005                2200  10047152  112.749664 -7.288381    107      84043810  \n",
       "8613                2201  10069328  112.727565 -7.374042     33      89093839  \n",
       "7468                2205  10047660  112.752062 -7.336119    199      79061404  "
      ]
     },
     "execution_count": 65,
     "metadata": {},
     "output_type": "execute_result"
    }
   ],
   "source": [
    "X_train.head()"
   ]
  },
  {
   "cell_type": "code",
   "execution_count": 66,
   "metadata": {},
   "outputs": [
    {
     "data": {
      "text/html": [
       "<div>\n",
       "<style scoped>\n",
       "    .dataframe tbody tr th:only-of-type {\n",
       "        vertical-align: middle;\n",
       "    }\n",
       "\n",
       "    .dataframe tbody tr th {\n",
       "        vertical-align: top;\n",
       "    }\n",
       "\n",
       "    .dataframe thead th {\n",
       "        text-align: right;\n",
       "    }\n",
       "</style>\n",
       "<table border=\"1\" class=\"dataframe\">\n",
       "  <thead>\n",
       "    <tr style=\"text-align: right;\">\n",
       "      <th></th>\n",
       "      <th>name</th>\n",
       "      <th>personnel_sub_area_name</th>\n",
       "      <th>personnel_area_name</th>\n",
       "      <th>type</th>\n",
       "      <th>status</th>\n",
       "      <th>year</th>\n",
       "      <th>month</th>\n",
       "      <th>day</th>\n",
       "      <th>hours</th>\n",
       "      <th>minutes</th>\n",
       "      <th>seconds</th>\n",
       "      <th>pernr</th>\n",
       "      <th>Lembur</th>\n",
       "      <th>personnel_area</th>\n",
       "      <th>personnel_sub_area</th>\n",
       "      <th>org_unit</th>\n",
       "      <th>longitude</th>\n",
       "      <th>latitude</th>\n",
       "      <th>range</th>\n",
       "      <th>atasan_pernr</th>\n",
       "    </tr>\n",
       "  </thead>\n",
       "  <tbody>\n",
       "    <tr>\n",
       "      <th>6012</th>\n",
       "      <td>43</td>\n",
       "      <td>3</td>\n",
       "      <td>0</td>\n",
       "      <td>1</td>\n",
       "      <td>0</td>\n",
       "      <td>2024</td>\n",
       "      <td>2</td>\n",
       "      <td>6</td>\n",
       "      <td>18</td>\n",
       "      <td>22</td>\n",
       "      <td>59</td>\n",
       "      <td>70923800</td>\n",
       "      <td>1</td>\n",
       "      <td>3400</td>\n",
       "      <td>2204</td>\n",
       "      <td>10069342</td>\n",
       "      <td>112.713909</td>\n",
       "      <td>-7.289984</td>\n",
       "      <td>155</td>\n",
       "      <td>87110004</td>\n",
       "    </tr>\n",
       "    <tr>\n",
       "      <th>5638</th>\n",
       "      <td>11</td>\n",
       "      <td>0</td>\n",
       "      <td>0</td>\n",
       "      <td>0</td>\n",
       "      <td>0</td>\n",
       "      <td>2024</td>\n",
       "      <td>2</td>\n",
       "      <td>5</td>\n",
       "      <td>7</td>\n",
       "      <td>12</td>\n",
       "      <td>32</td>\n",
       "      <td>87113811</td>\n",
       "      <td>0</td>\n",
       "      <td>3400</td>\n",
       "      <td>2200</td>\n",
       "      <td>10047104</td>\n",
       "      <td>112.749811</td>\n",
       "      <td>-7.288823</td>\n",
       "      <td>63</td>\n",
       "      <td>70923831</td>\n",
       "    </tr>\n",
       "    <tr>\n",
       "      <th>9166</th>\n",
       "      <td>53</td>\n",
       "      <td>5</td>\n",
       "      <td>0</td>\n",
       "      <td>0</td>\n",
       "      <td>0</td>\n",
       "      <td>2024</td>\n",
       "      <td>2</td>\n",
       "      <td>29</td>\n",
       "      <td>7</td>\n",
       "      <td>23</td>\n",
       "      <td>25</td>\n",
       "      <td>92123824</td>\n",
       "      <td>0</td>\n",
       "      <td>3400</td>\n",
       "      <td>2205</td>\n",
       "      <td>17300691</td>\n",
       "      <td>112.743949</td>\n",
       "      <td>-7.265900</td>\n",
       "      <td>52</td>\n",
       "      <td>85097409</td>\n",
       "    </tr>\n",
       "    <tr>\n",
       "      <th>6570</th>\n",
       "      <td>100</td>\n",
       "      <td>0</td>\n",
       "      <td>0</td>\n",
       "      <td>0</td>\n",
       "      <td>0</td>\n",
       "      <td>2024</td>\n",
       "      <td>2</td>\n",
       "      <td>13</td>\n",
       "      <td>7</td>\n",
       "      <td>23</td>\n",
       "      <td>33</td>\n",
       "      <td>89160014</td>\n",
       "      <td>0</td>\n",
       "      <td>3400</td>\n",
       "      <td>2200</td>\n",
       "      <td>10047104</td>\n",
       "      <td>112.749615</td>\n",
       "      <td>-7.288840</td>\n",
       "      <td>82</td>\n",
       "      <td>86093813</td>\n",
       "    </tr>\n",
       "    <tr>\n",
       "      <th>1667</th>\n",
       "      <td>93</td>\n",
       "      <td>1</td>\n",
       "      <td>0</td>\n",
       "      <td>0</td>\n",
       "      <td>0</td>\n",
       "      <td>2024</td>\n",
       "      <td>1</td>\n",
       "      <td>11</td>\n",
       "      <td>8</td>\n",
       "      <td>7</td>\n",
       "      <td>38</td>\n",
       "      <td>68943806</td>\n",
       "      <td>0</td>\n",
       "      <td>3400</td>\n",
       "      <td>2201</td>\n",
       "      <td>10069332</td>\n",
       "      <td>112.727687</td>\n",
       "      <td>-7.373965</td>\n",
       "      <td>19</td>\n",
       "      <td>89113808</td>\n",
       "    </tr>\n",
       "  </tbody>\n",
       "</table>\n",
       "</div>"
      ],
      "text/plain": [
       "      name  personnel_sub_area_name  personnel_area_name  type  status  year  \\\n",
       "6012    43                        3                    0     1       0  2024   \n",
       "5638    11                        0                    0     0       0  2024   \n",
       "9166    53                        5                    0     0       0  2024   \n",
       "6570   100                        0                    0     0       0  2024   \n",
       "1667    93                        1                    0     0       0  2024   \n",
       "\n",
       "      month  day  hours  minutes  seconds     pernr  Lembur  personnel_area  \\\n",
       "6012      2    6     18       22       59  70923800       1            3400   \n",
       "5638      2    5      7       12       32  87113811       0            3400   \n",
       "9166      2   29      7       23       25  92123824       0            3400   \n",
       "6570      2   13      7       23       33  89160014       0            3400   \n",
       "1667      1   11      8        7       38  68943806       0            3400   \n",
       "\n",
       "      personnel_sub_area  org_unit   longitude  latitude  range  atasan_pernr  \n",
       "6012                2204  10069342  112.713909 -7.289984    155      87110004  \n",
       "5638                2200  10047104  112.749811 -7.288823     63      70923831  \n",
       "9166                2205  17300691  112.743949 -7.265900     52      85097409  \n",
       "6570                2200  10047104  112.749615 -7.288840     82      86093813  \n",
       "1667                2201  10069332  112.727687 -7.373965     19      89113808  "
      ]
     },
     "execution_count": 66,
     "metadata": {},
     "output_type": "execute_result"
    }
   ],
   "source": [
    "X_test.head()"
   ]
  },
  {
   "cell_type": "code",
   "execution_count": 67,
   "metadata": {},
   "outputs": [
    {
     "data": {
      "text/plain": [
       "(4264    0\n",
       " 2884    0\n",
       " 8005    0\n",
       " 8613    0\n",
       " 7468    0\n",
       " Name: Telat, dtype: int64,\n",
       " 6012    0\n",
       " 5638    0\n",
       " 9166    0\n",
       " 6570    0\n",
       " 1667    1\n",
       " Name: Telat, dtype: int64)"
      ]
     },
     "execution_count": 67,
     "metadata": {},
     "output_type": "execute_result"
    }
   ],
   "source": [
    "y_train.head(), y_test.head()"
   ]
  },
  {
   "cell_type": "markdown",
   "metadata": {},
   "source": [
    "<a id = '4.11'></a>\n",
    "<p style = \"font-size : 34px; color : #fed049 ; font-family : 'Comic Sans MS'; text-align : center; background-color : #007580; border-radius: 5px 5px;\"><strong>MODEL BUILDING : ANN</strong></p> "
   ]
  },
  {
   "cell_type": "code",
   "execution_count": 68,
   "metadata": {},
   "outputs": [],
   "source": [
    "from tensorflow.keras.utils import to_categorical\n",
    "\n",
    "X = pd.concat([cat_df, num_df], axis = 1)\n",
    "y = to_categorical(df['Telat'])\n"
   ]
  },
  {
   "cell_type": "code",
   "execution_count": 69,
   "metadata": {},
   "outputs": [],
   "source": [
    "# splitting data into training set and test set\n",
    "X_train, X_test, y_train, y_test = train_test_split(X, y, test_size = 0.30)"
   ]
  },
  {
   "cell_type": "code",
   "execution_count": 70,
   "metadata": {},
   "outputs": [
    {
     "name": "stdout",
     "output_type": "stream",
     "text": [
      "Epoch 1/50\n"
     ]
    },
    {
     "name": "stdout",
     "output_type": "stream",
     "text": [
      "213/213 [==============================] - 1s 3ms/step - loss: 225619.2969 - accuracy: 0.9338 - val_loss: 237579.0625 - val_accuracy: 0.9426\n",
      "Epoch 2/50\n",
      "213/213 [==============================] - 0s 2ms/step - loss: 144190.5156 - accuracy: 0.9378 - val_loss: 118651.0312 - val_accuracy: 0.9426\n",
      "Epoch 3/50\n",
      "213/213 [==============================] - 0s 2ms/step - loss: 119869.9141 - accuracy: 0.9303 - val_loss: 124897.3984 - val_accuracy: 0.9426\n",
      "Epoch 4/50\n",
      "213/213 [==============================] - 0s 2ms/step - loss: 93492.7109 - accuracy: 0.9272 - val_loss: 38840.3008 - val_accuracy: 0.9426\n",
      "Epoch 5/50\n",
      "213/213 [==============================] - 0s 2ms/step - loss: 106494.7656 - accuracy: 0.9355 - val_loss: 170988.7344 - val_accuracy: 0.9426\n",
      "Epoch 6/50\n",
      "213/213 [==============================] - 0s 2ms/step - loss: 92572.2812 - accuracy: 0.9335 - val_loss: 135430.3125 - val_accuracy: 0.9426\n",
      "Epoch 7/50\n",
      "213/213 [==============================] - 0s 2ms/step - loss: 77687.6328 - accuracy: 0.9262 - val_loss: 26646.1152 - val_accuracy: 0.9426\n",
      "Epoch 8/50\n",
      "213/213 [==============================] - 0s 2ms/step - loss: 88096.2656 - accuracy: 0.9359 - val_loss: 113991.1719 - val_accuracy: 0.9426\n",
      "Epoch 9/50\n",
      "213/213 [==============================] - 0s 2ms/step - loss: 66353.6406 - accuracy: 0.9358 - val_loss: 95015.8359 - val_accuracy: 0.9426\n",
      "Epoch 10/50\n",
      "213/213 [==============================] - 0s 2ms/step - loss: 80988.4844 - accuracy: 0.9380 - val_loss: 52372.2031 - val_accuracy: 0.9426\n",
      "Epoch 11/50\n",
      "213/213 [==============================] - 0s 2ms/step - loss: 60621.9531 - accuracy: 0.9338 - val_loss: 78360.7422 - val_accuracy: 0.9426\n",
      "Epoch 12/50\n",
      "213/213 [==============================] - 0s 2ms/step - loss: 58028.6484 - accuracy: 0.9430 - val_loss: 66123.4766 - val_accuracy: 0.9426\n",
      "Epoch 13/50\n",
      "213/213 [==============================] - 0s 2ms/step - loss: 49676.5703 - accuracy: 0.9368 - val_loss: 33731.0469 - val_accuracy: 0.9426\n",
      "Epoch 14/50\n",
      "213/213 [==============================] - 0s 2ms/step - loss: 49963.1484 - accuracy: 0.9380 - val_loss: 43898.7734 - val_accuracy: 0.9426\n",
      "Epoch 15/50\n",
      "213/213 [==============================] - 0s 2ms/step - loss: 41330.7305 - accuracy: 0.9307 - val_loss: 39456.4688 - val_accuracy: 0.9426\n",
      "Epoch 16/50\n",
      "213/213 [==============================] - 0s 2ms/step - loss: 43600.8164 - accuracy: 0.9358 - val_loss: 54617.8828 - val_accuracy: 0.9426\n",
      "Epoch 17/50\n",
      "213/213 [==============================] - 0s 2ms/step - loss: 39620.2578 - accuracy: 0.9416 - val_loss: 37196.0664 - val_accuracy: 0.9426\n",
      "Epoch 18/50\n",
      "213/213 [==============================] - 0s 2ms/step - loss: 36747.0586 - accuracy: 0.9409 - val_loss: 61620.2695 - val_accuracy: 0.9426\n",
      "Epoch 19/50\n",
      "213/213 [==============================] - 0s 2ms/step - loss: 37646.1641 - accuracy: 0.9347 - val_loss: 35975.3359 - val_accuracy: 0.9426\n",
      "Epoch 20/50\n",
      "213/213 [==============================] - 0s 2ms/step - loss: 27479.9160 - accuracy: 0.9332 - val_loss: 30190.9375 - val_accuracy: 0.9426\n",
      "Epoch 21/50\n",
      "213/213 [==============================] - 0s 2ms/step - loss: 24368.5273 - accuracy: 0.9332 - val_loss: 37984.2539 - val_accuracy: 0.9426\n",
      "Epoch 22/50\n",
      "213/213 [==============================] - 0s 2ms/step - loss: 35318.4492 - accuracy: 0.9421 - val_loss: 17987.0117 - val_accuracy: 0.9426\n",
      "Epoch 23/50\n",
      "213/213 [==============================] - 0s 2ms/step - loss: 30229.4043 - accuracy: 0.9312 - val_loss: 11474.8350 - val_accuracy: 0.9426\n",
      "Epoch 24/50\n",
      "213/213 [==============================] - 0s 2ms/step - loss: 22174.9629 - accuracy: 0.9331 - val_loss: 14606.4365 - val_accuracy: 0.9426\n",
      "Epoch 25/50\n",
      "213/213 [==============================] - 0s 2ms/step - loss: 23836.9531 - accuracy: 0.9394 - val_loss: 20751.5684 - val_accuracy: 0.9426\n",
      "Epoch 26/50\n",
      "213/213 [==============================] - 0s 2ms/step - loss: 25564.6445 - accuracy: 0.9231 - val_loss: 20621.8184 - val_accuracy: 0.9426\n",
      "Epoch 27/50\n",
      "213/213 [==============================] - 0s 2ms/step - loss: 19956.7188 - accuracy: 0.9319 - val_loss: 22936.2383 - val_accuracy: 0.9426\n",
      "Epoch 28/50\n",
      "213/213 [==============================] - 0s 2ms/step - loss: 19708.3320 - accuracy: 0.9380 - val_loss: 9085.1787 - val_accuracy: 0.9426\n",
      "Epoch 29/50\n",
      "213/213 [==============================] - 0s 2ms/step - loss: 17129.3066 - accuracy: 0.9400 - val_loss: 16465.1094 - val_accuracy: 0.9426\n",
      "Epoch 30/50\n",
      "213/213 [==============================] - 0s 2ms/step - loss: 17056.2793 - accuracy: 0.9425 - val_loss: 14614.3887 - val_accuracy: 0.9426\n",
      "Epoch 31/50\n",
      "213/213 [==============================] - 0s 2ms/step - loss: 15648.2109 - accuracy: 0.9222 - val_loss: 13435.6797 - val_accuracy: 0.9426\n",
      "Epoch 32/50\n",
      "213/213 [==============================] - 0s 2ms/step - loss: 11736.6885 - accuracy: 0.9387 - val_loss: 27174.9961 - val_accuracy: 0.9426\n",
      "Epoch 33/50\n",
      "213/213 [==============================] - 0s 2ms/step - loss: 13115.8594 - accuracy: 0.9338 - val_loss: 8469.6973 - val_accuracy: 0.9426\n",
      "Epoch 34/50\n",
      "213/213 [==============================] - 0s 2ms/step - loss: 12082.5488 - accuracy: 0.9350 - val_loss: 17528.0977 - val_accuracy: 0.9426\n",
      "Epoch 35/50\n",
      "213/213 [==============================] - 0s 2ms/step - loss: 14399.2617 - accuracy: 0.9412 - val_loss: 1461.7200 - val_accuracy: 0.9426\n",
      "Epoch 36/50\n",
      "213/213 [==============================] - 0s 2ms/step - loss: 13957.3926 - accuracy: 0.9279 - val_loss: 10113.2578 - val_accuracy: 0.9426\n",
      "Epoch 37/50\n",
      "213/213 [==============================] - 0s 2ms/step - loss: 9843.2598 - accuracy: 0.9343 - val_loss: 7715.0459 - val_accuracy: 0.9426\n",
      "Epoch 38/50\n",
      "213/213 [==============================] - 0s 2ms/step - loss: 10310.0752 - accuracy: 0.9381 - val_loss: 4444.3560 - val_accuracy: 0.8364\n",
      "Epoch 39/50\n",
      "213/213 [==============================] - 0s 2ms/step - loss: 7387.9717 - accuracy: 0.9374 - val_loss: 12683.3262 - val_accuracy: 0.9426\n",
      "Epoch 40/50\n",
      "213/213 [==============================] - 0s 2ms/step - loss: 7706.1934 - accuracy: 0.9322 - val_loss: 8045.1777 - val_accuracy: 0.9426\n",
      "Epoch 41/50\n",
      "213/213 [==============================] - 0s 2ms/step - loss: 6870.0415 - accuracy: 0.9377 - val_loss: 4640.8652 - val_accuracy: 0.9426\n",
      "Epoch 42/50\n",
      "213/213 [==============================] - 0s 2ms/step - loss: 5029.8940 - accuracy: 0.9334 - val_loss: 8135.5522 - val_accuracy: 0.9426\n",
      "Epoch 43/50\n",
      "213/213 [==============================] - 1s 4ms/step - loss: 5436.6089 - accuracy: 0.9332 - val_loss: 4366.2490 - val_accuracy: 0.9426\n",
      "Epoch 44/50\n",
      "213/213 [==============================] - 1s 3ms/step - loss: 5815.2837 - accuracy: 0.9350 - val_loss: 8398.0850 - val_accuracy: 0.9426\n",
      "Epoch 45/50\n",
      "213/213 [==============================] - 1s 4ms/step - loss: 4486.5474 - accuracy: 0.9358 - val_loss: 4876.6709 - val_accuracy: 0.9426\n",
      "Epoch 46/50\n",
      "213/213 [==============================] - 1s 4ms/step - loss: 3578.5090 - accuracy: 0.9327 - val_loss: 3280.6814 - val_accuracy: 0.9426\n",
      "Epoch 47/50\n",
      "213/213 [==============================] - 1s 3ms/step - loss: 3362.8108 - accuracy: 0.9328 - val_loss: 1888.2823 - val_accuracy: 0.9426\n",
      "Epoch 48/50\n",
      "213/213 [==============================] - 1s 3ms/step - loss: 2870.3760 - accuracy: 0.9352 - val_loss: 3569.3630 - val_accuracy: 0.9426\n",
      "Epoch 49/50\n",
      "213/213 [==============================] - 1s 3ms/step - loss: 2569.7920 - accuracy: 0.9332 - val_loss: 1942.1693 - val_accuracy: 0.9426\n",
      "Epoch 50/50\n",
      "213/213 [==============================] - 1s 3ms/step - loss: 2244.1321 - accuracy: 0.9307 - val_loss: 1870.5270 - val_accuracy: 0.9426\n"
     ]
    }
   ],
   "source": [
    "import keras\n",
    "from keras.layers import Dense\n",
    "from keras.models import Sequential\n",
    "\n",
    "model  = Sequential()\n",
    "model.add(Dense(100, activation = 'relu', input_shape = (20, )))\n",
    "model.add(Dense(100, activation = 'relu'))\n",
    "model.add(Dense(2, activation = 'sigmoid'))\n",
    "model.compile(optimizer = 'adam', loss = 'binary_crossentropy', metrics = ['accuracy'])\n",
    "model_history = model.fit(X_train, y_train, validation_data = (X_test, y_test), epochs = 50)"
   ]
  },
  {
   "cell_type": "code",
   "execution_count": 74,
   "metadata": {},
   "outputs": [
    {
     "data": {
      "application/vnd.plotly.v1+json": {
       "config": {
        "plotlyServerURL": "https://plot.ly"
       },
       "data": [
        {
         "hovertemplate": "variable=val_loss<br>x=%{x}<br>value=%{y}<extra></extra>",
         "legendgroup": "val_loss",
         "line": {
          "color": "#636efa",
          "dash": "solid"
         },
         "marker": {
          "symbol": "circle"
         },
         "mode": "lines",
         "name": "val_loss",
         "orientation": "v",
         "showlegend": true,
         "type": "scatter",
         "x": [
          1,
          2,
          3,
          4,
          5,
          6,
          7,
          8,
          9,
          10,
          11,
          12,
          13,
          14,
          15,
          16,
          17,
          18,
          19,
          20,
          21,
          22,
          23,
          24,
          25,
          26,
          27,
          28,
          29,
          30,
          31,
          32,
          33,
          34,
          35,
          36,
          37,
          38,
          39,
          40,
          41,
          42,
          43,
          44,
          45,
          46,
          47,
          48,
          49,
          50
         ],
         "xaxis": "x",
         "y": [
          237579.0625,
          118651.03125,
          124897.3984375,
          38840.30078125,
          170988.734375,
          135430.3125,
          26646.115234375,
          113991.171875,
          95015.8359375,
          52372.203125,
          78360.7421875,
          66123.4765625,
          33731.046875,
          43898.7734375,
          39456.46875,
          54617.8828125,
          37196.06640625,
          61620.26953125,
          35975.3359375,
          30190.9375,
          37984.25390625,
          17987.01171875,
          11474.8349609375,
          14606.4365234375,
          20751.568359375,
          20621.818359375,
          22936.23828125,
          9085.1787109375,
          16465.109375,
          14614.388671875,
          13435.6796875,
          27174.99609375,
          8469.697265625,
          17528.09765625,
          1461.719970703125,
          10113.2578125,
          7715.0458984375,
          4444.35595703125,
          12683.326171875,
          8045.177734375,
          4640.865234375,
          8135.55224609375,
          4366.2490234375,
          8398.0849609375,
          4876.6708984375,
          3280.681396484375,
          1888.2823486328125,
          3569.363037109375,
          1942.1693115234375,
          1870.5269775390625
         ],
         "yaxis": "y"
        },
        {
         "hovertemplate": "variable=train_loss<br>x=%{x}<br>value=%{y}<extra></extra>",
         "legendgroup": "train_loss",
         "line": {
          "color": "#EF553B",
          "dash": "solid"
         },
         "marker": {
          "symbol": "circle"
         },
         "mode": "lines",
         "name": "train_loss",
         "orientation": "v",
         "showlegend": true,
         "type": "scatter",
         "x": [
          1,
          2,
          3,
          4,
          5,
          6,
          7,
          8,
          9,
          10,
          11,
          12,
          13,
          14,
          15,
          16,
          17,
          18,
          19,
          20,
          21,
          22,
          23,
          24,
          25,
          26,
          27,
          28,
          29,
          30,
          31,
          32,
          33,
          34,
          35,
          36,
          37,
          38,
          39,
          40,
          41,
          42,
          43,
          44,
          45,
          46,
          47,
          48,
          49,
          50
         ],
         "xaxis": "x",
         "y": [
          225619.296875,
          144190.515625,
          119869.9140625,
          93492.7109375,
          106494.765625,
          92572.28125,
          77687.6328125,
          88096.265625,
          66353.640625,
          80988.484375,
          60621.953125,
          58028.6484375,
          49676.5703125,
          49963.1484375,
          41330.73046875,
          43600.81640625,
          39620.2578125,
          36747.05859375,
          37646.1640625,
          27479.916015625,
          24368.52734375,
          35318.44921875,
          30229.404296875,
          22174.962890625,
          23836.953125,
          25564.64453125,
          19956.71875,
          19708.33203125,
          17129.306640625,
          17056.279296875,
          15648.2109375,
          11736.6884765625,
          13115.859375,
          12082.548828125,
          14399.26171875,
          13957.392578125,
          9843.259765625,
          10310.0751953125,
          7387.9716796875,
          7706.193359375,
          6870.04150390625,
          5029.89404296875,
          5436.60888671875,
          5815.28369140625,
          4486.54736328125,
          3578.509033203125,
          3362.810791015625,
          2870.3759765625,
          2569.7919921875,
          2244.132080078125
         ],
         "yaxis": "y"
        }
       ],
       "layout": {
        "legend": {
         "title": {
          "text": "variable"
         },
         "tracegroupgap": 0
        },
        "template": {
         "data": {
          "bar": [
           {
            "error_x": {
             "color": "#f2f5fa"
            },
            "error_y": {
             "color": "#f2f5fa"
            },
            "marker": {
             "line": {
              "color": "rgb(17,17,17)",
              "width": 0.5
             },
             "pattern": {
              "fillmode": "overlay",
              "size": 10,
              "solidity": 0.2
             }
            },
            "type": "bar"
           }
          ],
          "barpolar": [
           {
            "marker": {
             "line": {
              "color": "rgb(17,17,17)",
              "width": 0.5
             },
             "pattern": {
              "fillmode": "overlay",
              "size": 10,
              "solidity": 0.2
             }
            },
            "type": "barpolar"
           }
          ],
          "carpet": [
           {
            "aaxis": {
             "endlinecolor": "#A2B1C6",
             "gridcolor": "#506784",
             "linecolor": "#506784",
             "minorgridcolor": "#506784",
             "startlinecolor": "#A2B1C6"
            },
            "baxis": {
             "endlinecolor": "#A2B1C6",
             "gridcolor": "#506784",
             "linecolor": "#506784",
             "minorgridcolor": "#506784",
             "startlinecolor": "#A2B1C6"
            },
            "type": "carpet"
           }
          ],
          "choropleth": [
           {
            "colorbar": {
             "outlinewidth": 0,
             "ticks": ""
            },
            "type": "choropleth"
           }
          ],
          "contour": [
           {
            "colorbar": {
             "outlinewidth": 0,
             "ticks": ""
            },
            "colorscale": [
             [
              0,
              "#0d0887"
             ],
             [
              0.1111111111111111,
              "#46039f"
             ],
             [
              0.2222222222222222,
              "#7201a8"
             ],
             [
              0.3333333333333333,
              "#9c179e"
             ],
             [
              0.4444444444444444,
              "#bd3786"
             ],
             [
              0.5555555555555556,
              "#d8576b"
             ],
             [
              0.6666666666666666,
              "#ed7953"
             ],
             [
              0.7777777777777778,
              "#fb9f3a"
             ],
             [
              0.8888888888888888,
              "#fdca26"
             ],
             [
              1,
              "#f0f921"
             ]
            ],
            "type": "contour"
           }
          ],
          "contourcarpet": [
           {
            "colorbar": {
             "outlinewidth": 0,
             "ticks": ""
            },
            "type": "contourcarpet"
           }
          ],
          "heatmap": [
           {
            "colorbar": {
             "outlinewidth": 0,
             "ticks": ""
            },
            "colorscale": [
             [
              0,
              "#0d0887"
             ],
             [
              0.1111111111111111,
              "#46039f"
             ],
             [
              0.2222222222222222,
              "#7201a8"
             ],
             [
              0.3333333333333333,
              "#9c179e"
             ],
             [
              0.4444444444444444,
              "#bd3786"
             ],
             [
              0.5555555555555556,
              "#d8576b"
             ],
             [
              0.6666666666666666,
              "#ed7953"
             ],
             [
              0.7777777777777778,
              "#fb9f3a"
             ],
             [
              0.8888888888888888,
              "#fdca26"
             ],
             [
              1,
              "#f0f921"
             ]
            ],
            "type": "heatmap"
           }
          ],
          "heatmapgl": [
           {
            "colorbar": {
             "outlinewidth": 0,
             "ticks": ""
            },
            "colorscale": [
             [
              0,
              "#0d0887"
             ],
             [
              0.1111111111111111,
              "#46039f"
             ],
             [
              0.2222222222222222,
              "#7201a8"
             ],
             [
              0.3333333333333333,
              "#9c179e"
             ],
             [
              0.4444444444444444,
              "#bd3786"
             ],
             [
              0.5555555555555556,
              "#d8576b"
             ],
             [
              0.6666666666666666,
              "#ed7953"
             ],
             [
              0.7777777777777778,
              "#fb9f3a"
             ],
             [
              0.8888888888888888,
              "#fdca26"
             ],
             [
              1,
              "#f0f921"
             ]
            ],
            "type": "heatmapgl"
           }
          ],
          "histogram": [
           {
            "marker": {
             "pattern": {
              "fillmode": "overlay",
              "size": 10,
              "solidity": 0.2
             }
            },
            "type": "histogram"
           }
          ],
          "histogram2d": [
           {
            "colorbar": {
             "outlinewidth": 0,
             "ticks": ""
            },
            "colorscale": [
             [
              0,
              "#0d0887"
             ],
             [
              0.1111111111111111,
              "#46039f"
             ],
             [
              0.2222222222222222,
              "#7201a8"
             ],
             [
              0.3333333333333333,
              "#9c179e"
             ],
             [
              0.4444444444444444,
              "#bd3786"
             ],
             [
              0.5555555555555556,
              "#d8576b"
             ],
             [
              0.6666666666666666,
              "#ed7953"
             ],
             [
              0.7777777777777778,
              "#fb9f3a"
             ],
             [
              0.8888888888888888,
              "#fdca26"
             ],
             [
              1,
              "#f0f921"
             ]
            ],
            "type": "histogram2d"
           }
          ],
          "histogram2dcontour": [
           {
            "colorbar": {
             "outlinewidth": 0,
             "ticks": ""
            },
            "colorscale": [
             [
              0,
              "#0d0887"
             ],
             [
              0.1111111111111111,
              "#46039f"
             ],
             [
              0.2222222222222222,
              "#7201a8"
             ],
             [
              0.3333333333333333,
              "#9c179e"
             ],
             [
              0.4444444444444444,
              "#bd3786"
             ],
             [
              0.5555555555555556,
              "#d8576b"
             ],
             [
              0.6666666666666666,
              "#ed7953"
             ],
             [
              0.7777777777777778,
              "#fb9f3a"
             ],
             [
              0.8888888888888888,
              "#fdca26"
             ],
             [
              1,
              "#f0f921"
             ]
            ],
            "type": "histogram2dcontour"
           }
          ],
          "mesh3d": [
           {
            "colorbar": {
             "outlinewidth": 0,
             "ticks": ""
            },
            "type": "mesh3d"
           }
          ],
          "parcoords": [
           {
            "line": {
             "colorbar": {
              "outlinewidth": 0,
              "ticks": ""
             }
            },
            "type": "parcoords"
           }
          ],
          "pie": [
           {
            "automargin": true,
            "type": "pie"
           }
          ],
          "scatter": [
           {
            "marker": {
             "line": {
              "color": "#283442"
             }
            },
            "type": "scatter"
           }
          ],
          "scatter3d": [
           {
            "line": {
             "colorbar": {
              "outlinewidth": 0,
              "ticks": ""
             }
            },
            "marker": {
             "colorbar": {
              "outlinewidth": 0,
              "ticks": ""
             }
            },
            "type": "scatter3d"
           }
          ],
          "scattercarpet": [
           {
            "marker": {
             "colorbar": {
              "outlinewidth": 0,
              "ticks": ""
             }
            },
            "type": "scattercarpet"
           }
          ],
          "scattergeo": [
           {
            "marker": {
             "colorbar": {
              "outlinewidth": 0,
              "ticks": ""
             }
            },
            "type": "scattergeo"
           }
          ],
          "scattergl": [
           {
            "marker": {
             "line": {
              "color": "#283442"
             }
            },
            "type": "scattergl"
           }
          ],
          "scattermapbox": [
           {
            "marker": {
             "colorbar": {
              "outlinewidth": 0,
              "ticks": ""
             }
            },
            "type": "scattermapbox"
           }
          ],
          "scatterpolar": [
           {
            "marker": {
             "colorbar": {
              "outlinewidth": 0,
              "ticks": ""
             }
            },
            "type": "scatterpolar"
           }
          ],
          "scatterpolargl": [
           {
            "marker": {
             "colorbar": {
              "outlinewidth": 0,
              "ticks": ""
             }
            },
            "type": "scatterpolargl"
           }
          ],
          "scatterternary": [
           {
            "marker": {
             "colorbar": {
              "outlinewidth": 0,
              "ticks": ""
             }
            },
            "type": "scatterternary"
           }
          ],
          "surface": [
           {
            "colorbar": {
             "outlinewidth": 0,
             "ticks": ""
            },
            "colorscale": [
             [
              0,
              "#0d0887"
             ],
             [
              0.1111111111111111,
              "#46039f"
             ],
             [
              0.2222222222222222,
              "#7201a8"
             ],
             [
              0.3333333333333333,
              "#9c179e"
             ],
             [
              0.4444444444444444,
              "#bd3786"
             ],
             [
              0.5555555555555556,
              "#d8576b"
             ],
             [
              0.6666666666666666,
              "#ed7953"
             ],
             [
              0.7777777777777778,
              "#fb9f3a"
             ],
             [
              0.8888888888888888,
              "#fdca26"
             ],
             [
              1,
              "#f0f921"
             ]
            ],
            "type": "surface"
           }
          ],
          "table": [
           {
            "cells": {
             "fill": {
              "color": "#506784"
             },
             "line": {
              "color": "rgb(17,17,17)"
             }
            },
            "header": {
             "fill": {
              "color": "#2a3f5f"
             },
             "line": {
              "color": "rgb(17,17,17)"
             }
            },
            "type": "table"
           }
          ]
         },
         "layout": {
          "annotationdefaults": {
           "arrowcolor": "#f2f5fa",
           "arrowhead": 0,
           "arrowwidth": 1
          },
          "autotypenumbers": "strict",
          "coloraxis": {
           "colorbar": {
            "outlinewidth": 0,
            "ticks": ""
           }
          },
          "colorscale": {
           "diverging": [
            [
             0,
             "#8e0152"
            ],
            [
             0.1,
             "#c51b7d"
            ],
            [
             0.2,
             "#de77ae"
            ],
            [
             0.3,
             "#f1b6da"
            ],
            [
             0.4,
             "#fde0ef"
            ],
            [
             0.5,
             "#f7f7f7"
            ],
            [
             0.6,
             "#e6f5d0"
            ],
            [
             0.7,
             "#b8e186"
            ],
            [
             0.8,
             "#7fbc41"
            ],
            [
             0.9,
             "#4d9221"
            ],
            [
             1,
             "#276419"
            ]
           ],
           "sequential": [
            [
             0,
             "#0d0887"
            ],
            [
             0.1111111111111111,
             "#46039f"
            ],
            [
             0.2222222222222222,
             "#7201a8"
            ],
            [
             0.3333333333333333,
             "#9c179e"
            ],
            [
             0.4444444444444444,
             "#bd3786"
            ],
            [
             0.5555555555555556,
             "#d8576b"
            ],
            [
             0.6666666666666666,
             "#ed7953"
            ],
            [
             0.7777777777777778,
             "#fb9f3a"
            ],
            [
             0.8888888888888888,
             "#fdca26"
            ],
            [
             1,
             "#f0f921"
            ]
           ],
           "sequentialminus": [
            [
             0,
             "#0d0887"
            ],
            [
             0.1111111111111111,
             "#46039f"
            ],
            [
             0.2222222222222222,
             "#7201a8"
            ],
            [
             0.3333333333333333,
             "#9c179e"
            ],
            [
             0.4444444444444444,
             "#bd3786"
            ],
            [
             0.5555555555555556,
             "#d8576b"
            ],
            [
             0.6666666666666666,
             "#ed7953"
            ],
            [
             0.7777777777777778,
             "#fb9f3a"
            ],
            [
             0.8888888888888888,
             "#fdca26"
            ],
            [
             1,
             "#f0f921"
            ]
           ]
          },
          "colorway": [
           "#636efa",
           "#EF553B",
           "#00cc96",
           "#ab63fa",
           "#FFA15A",
           "#19d3f3",
           "#FF6692",
           "#B6E880",
           "#FF97FF",
           "#FECB52"
          ],
          "font": {
           "color": "#f2f5fa"
          },
          "geo": {
           "bgcolor": "rgb(17,17,17)",
           "lakecolor": "rgb(17,17,17)",
           "landcolor": "rgb(17,17,17)",
           "showlakes": true,
           "showland": true,
           "subunitcolor": "#506784"
          },
          "hoverlabel": {
           "align": "left"
          },
          "hovermode": "closest",
          "mapbox": {
           "style": "dark"
          },
          "paper_bgcolor": "rgb(17,17,17)",
          "plot_bgcolor": "rgb(17,17,17)",
          "polar": {
           "angularaxis": {
            "gridcolor": "#506784",
            "linecolor": "#506784",
            "ticks": ""
           },
           "bgcolor": "rgb(17,17,17)",
           "radialaxis": {
            "gridcolor": "#506784",
            "linecolor": "#506784",
            "ticks": ""
           }
          },
          "scene": {
           "xaxis": {
            "backgroundcolor": "rgb(17,17,17)",
            "gridcolor": "#506784",
            "gridwidth": 2,
            "linecolor": "#506784",
            "showbackground": true,
            "ticks": "",
            "zerolinecolor": "#C8D4E3"
           },
           "yaxis": {
            "backgroundcolor": "rgb(17,17,17)",
            "gridcolor": "#506784",
            "gridwidth": 2,
            "linecolor": "#506784",
            "showbackground": true,
            "ticks": "",
            "zerolinecolor": "#C8D4E3"
           },
           "zaxis": {
            "backgroundcolor": "rgb(17,17,17)",
            "gridcolor": "#506784",
            "gridwidth": 2,
            "linecolor": "#506784",
            "showbackground": true,
            "ticks": "",
            "zerolinecolor": "#C8D4E3"
           }
          },
          "shapedefaults": {
           "line": {
            "color": "#f2f5fa"
           }
          },
          "sliderdefaults": {
           "bgcolor": "#C8D4E3",
           "bordercolor": "rgb(17,17,17)",
           "borderwidth": 1,
           "tickwidth": 0
          },
          "ternary": {
           "aaxis": {
            "gridcolor": "#506784",
            "linecolor": "#506784",
            "ticks": ""
           },
           "baxis": {
            "gridcolor": "#506784",
            "linecolor": "#506784",
            "ticks": ""
           },
           "bgcolor": "rgb(17,17,17)",
           "caxis": {
            "gridcolor": "#506784",
            "linecolor": "#506784",
            "ticks": ""
           }
          },
          "title": {
           "x": 0.05
          },
          "updatemenudefaults": {
           "bgcolor": "#506784",
           "borderwidth": 0
          },
          "xaxis": {
           "automargin": true,
           "gridcolor": "#283442",
           "linecolor": "#506784",
           "ticks": "",
           "title": {
            "standoff": 15
           },
           "zerolinecolor": "#283442",
           "zerolinewidth": 2
          },
          "yaxis": {
           "automargin": true,
           "gridcolor": "#283442",
           "linecolor": "#506784",
           "ticks": "",
           "title": {
            "standoff": 15
           },
           "zerolinecolor": "#283442",
           "zerolinewidth": 2
          }
         }
        },
        "title": {
         "text": "Training and Validation Loss"
        },
        "xaxis": {
         "anchor": "y",
         "domain": [
          0,
          1
         ],
         "title": {
          "text": "x"
         }
        },
        "yaxis": {
         "anchor": "x",
         "domain": [
          0,
          1
         ],
         "title": {
          "text": "value"
         }
        }
       }
      }
     },
     "metadata": {},
     "output_type": "display_data"
    },
    {
     "data": {
      "text/plain": [
       "<Figure size 1200x600 with 0 Axes>"
      ]
     },
     "metadata": {},
     "output_type": "display_data"
    }
   ],
   "source": [
    "plt.figure(figsize = (12, 6))\n",
    "\n",
    "train_loss = model_history.history['loss']\n",
    "val_loss = model_history.history['val_loss'] \n",
    "epoch = range(1, 51)\n",
    "\n",
    "loss = pd.DataFrame({'train_loss' : train_loss, 'val_loss' : val_loss})\n",
    "\n",
    "px.line(data_frame = loss, x = epoch, y = ['val_loss', 'train_loss'], title = 'Training and Validation Loss',\n",
    "        template = 'plotly_dark')"
   ]
  },
  {
   "cell_type": "code",
   "execution_count": 75,
   "metadata": {},
   "outputs": [
    {
     "data": {
      "application/vnd.plotly.v1+json": {
       "config": {
        "plotlyServerURL": "https://plot.ly"
       },
       "data": [
        {
         "hovertemplate": "variable=val_acc<br>x=%{x}<br>value=%{y}<extra></extra>",
         "legendgroup": "val_acc",
         "line": {
          "color": "#636efa",
          "dash": "solid"
         },
         "marker": {
          "symbol": "circle"
         },
         "mode": "lines",
         "name": "val_acc",
         "orientation": "v",
         "showlegend": true,
         "type": "scatter",
         "x": [
          1,
          2,
          3,
          4,
          5,
          6,
          7,
          8,
          9,
          10,
          11,
          12,
          13,
          14,
          15,
          16,
          17,
          18,
          19,
          20,
          21,
          22,
          23,
          24,
          25,
          26,
          27,
          28,
          29,
          30,
          31,
          32,
          33,
          34,
          35,
          36,
          37,
          38,
          39,
          40,
          41,
          42,
          43,
          44,
          45,
          46,
          47,
          48,
          49,
          50
         ],
         "xaxis": "x",
         "y": [
          0.9425919651985168,
          0.9425919651985168,
          0.9425919651985168,
          0.9425919651985168,
          0.9425919651985168,
          0.9425919651985168,
          0.9425919651985168,
          0.9425919651985168,
          0.9425919651985168,
          0.9425919651985168,
          0.9425919651985168,
          0.9425919651985168,
          0.9425919651985168,
          0.9425919651985168,
          0.9425919651985168,
          0.9425919651985168,
          0.9425919651985168,
          0.9425919651985168,
          0.9425919651985168,
          0.9425919651985168,
          0.9425919651985168,
          0.9425919651985168,
          0.9425919651985168,
          0.9425919651985168,
          0.9425919651985168,
          0.9425919651985168,
          0.9425919651985168,
          0.9425919651985168,
          0.9425919651985168,
          0.9425919651985168,
          0.9425919651985168,
          0.9425919651985168,
          0.9425919651985168,
          0.9425919651985168,
          0.9425919651985168,
          0.9425919651985168,
          0.9425919651985168,
          0.8363698720932007,
          0.9425919651985168,
          0.9425919651985168,
          0.9425919651985168,
          0.9425919651985168,
          0.9425919651985168,
          0.9425919651985168,
          0.9425919651985168,
          0.9425919651985168,
          0.9425919651985168,
          0.9425919651985168,
          0.9425919651985168,
          0.9425919651985168
         ],
         "yaxis": "y"
        },
        {
         "hovertemplate": "variable=train_acc<br>x=%{x}<br>value=%{y}<extra></extra>",
         "legendgroup": "train_acc",
         "line": {
          "color": "#EF553B",
          "dash": "solid"
         },
         "marker": {
          "symbol": "circle"
         },
         "mode": "lines",
         "name": "train_acc",
         "orientation": "v",
         "showlegend": true,
         "type": "scatter",
         "x": [
          1,
          2,
          3,
          4,
          5,
          6,
          7,
          8,
          9,
          10,
          11,
          12,
          13,
          14,
          15,
          16,
          17,
          18,
          19,
          20,
          21,
          22,
          23,
          24,
          25,
          26,
          27,
          28,
          29,
          30,
          31,
          32,
          33,
          34,
          35,
          36,
          37,
          38,
          39,
          40,
          41,
          42,
          43,
          44,
          45,
          46,
          47,
          48,
          49,
          50
         ],
         "xaxis": "x",
         "y": [
          0.9338343739509583,
          0.9378131628036499,
          0.9302976727485657,
          0.9272030591964722,
          0.935455322265625,
          0.933539628982544,
          0.9261715412139893,
          0.9358974099159241,
          0.9357500672340393,
          0.9379605054855347,
          0.9338343739509583,
          0.9429708123207092,
          0.9367815852165222,
          0.9379605054855347,
          0.9307397603988647,
          0.9357500672340393,
          0.941644549369812,
          0.9409077763557434,
          0.9347185492515564,
          0.9332449436187744,
          0.9332449436187744,
          0.9420866370201111,
          0.9311818480491638,
          0.9330975413322449,
          0.9394341111183167,
          0.9230769276618958,
          0.9319186806678772,
          0.9379605054855347,
          0.9400236010551453,
          0.9425287246704102,
          0.9221927523612976,
          0.938697338104248,
          0.9338343739509583,
          0.9350132346153259,
          0.9412024617195129,
          0.9279398918151855,
          0.9342764616012573,
          0.9381078481674194,
          0.9373710751533508,
          0.9322133660316467,
          0.9376657605171204,
          0.9333922863006592,
          0.9332449436187744,
          0.9350132346153259,
          0.9357500672340393,
          0.9326554536819458,
          0.9328028559684753,
          0.9351606369018555,
          0.9332449436187744,
          0.9307397603988647
         ],
         "yaxis": "y"
        }
       ],
       "layout": {
        "legend": {
         "title": {
          "text": "variable"
         },
         "tracegroupgap": 0
        },
        "template": {
         "data": {
          "bar": [
           {
            "error_x": {
             "color": "#f2f5fa"
            },
            "error_y": {
             "color": "#f2f5fa"
            },
            "marker": {
             "line": {
              "color": "rgb(17,17,17)",
              "width": 0.5
             },
             "pattern": {
              "fillmode": "overlay",
              "size": 10,
              "solidity": 0.2
             }
            },
            "type": "bar"
           }
          ],
          "barpolar": [
           {
            "marker": {
             "line": {
              "color": "rgb(17,17,17)",
              "width": 0.5
             },
             "pattern": {
              "fillmode": "overlay",
              "size": 10,
              "solidity": 0.2
             }
            },
            "type": "barpolar"
           }
          ],
          "carpet": [
           {
            "aaxis": {
             "endlinecolor": "#A2B1C6",
             "gridcolor": "#506784",
             "linecolor": "#506784",
             "minorgridcolor": "#506784",
             "startlinecolor": "#A2B1C6"
            },
            "baxis": {
             "endlinecolor": "#A2B1C6",
             "gridcolor": "#506784",
             "linecolor": "#506784",
             "minorgridcolor": "#506784",
             "startlinecolor": "#A2B1C6"
            },
            "type": "carpet"
           }
          ],
          "choropleth": [
           {
            "colorbar": {
             "outlinewidth": 0,
             "ticks": ""
            },
            "type": "choropleth"
           }
          ],
          "contour": [
           {
            "colorbar": {
             "outlinewidth": 0,
             "ticks": ""
            },
            "colorscale": [
             [
              0,
              "#0d0887"
             ],
             [
              0.1111111111111111,
              "#46039f"
             ],
             [
              0.2222222222222222,
              "#7201a8"
             ],
             [
              0.3333333333333333,
              "#9c179e"
             ],
             [
              0.4444444444444444,
              "#bd3786"
             ],
             [
              0.5555555555555556,
              "#d8576b"
             ],
             [
              0.6666666666666666,
              "#ed7953"
             ],
             [
              0.7777777777777778,
              "#fb9f3a"
             ],
             [
              0.8888888888888888,
              "#fdca26"
             ],
             [
              1,
              "#f0f921"
             ]
            ],
            "type": "contour"
           }
          ],
          "contourcarpet": [
           {
            "colorbar": {
             "outlinewidth": 0,
             "ticks": ""
            },
            "type": "contourcarpet"
           }
          ],
          "heatmap": [
           {
            "colorbar": {
             "outlinewidth": 0,
             "ticks": ""
            },
            "colorscale": [
             [
              0,
              "#0d0887"
             ],
             [
              0.1111111111111111,
              "#46039f"
             ],
             [
              0.2222222222222222,
              "#7201a8"
             ],
             [
              0.3333333333333333,
              "#9c179e"
             ],
             [
              0.4444444444444444,
              "#bd3786"
             ],
             [
              0.5555555555555556,
              "#d8576b"
             ],
             [
              0.6666666666666666,
              "#ed7953"
             ],
             [
              0.7777777777777778,
              "#fb9f3a"
             ],
             [
              0.8888888888888888,
              "#fdca26"
             ],
             [
              1,
              "#f0f921"
             ]
            ],
            "type": "heatmap"
           }
          ],
          "heatmapgl": [
           {
            "colorbar": {
             "outlinewidth": 0,
             "ticks": ""
            },
            "colorscale": [
             [
              0,
              "#0d0887"
             ],
             [
              0.1111111111111111,
              "#46039f"
             ],
             [
              0.2222222222222222,
              "#7201a8"
             ],
             [
              0.3333333333333333,
              "#9c179e"
             ],
             [
              0.4444444444444444,
              "#bd3786"
             ],
             [
              0.5555555555555556,
              "#d8576b"
             ],
             [
              0.6666666666666666,
              "#ed7953"
             ],
             [
              0.7777777777777778,
              "#fb9f3a"
             ],
             [
              0.8888888888888888,
              "#fdca26"
             ],
             [
              1,
              "#f0f921"
             ]
            ],
            "type": "heatmapgl"
           }
          ],
          "histogram": [
           {
            "marker": {
             "pattern": {
              "fillmode": "overlay",
              "size": 10,
              "solidity": 0.2
             }
            },
            "type": "histogram"
           }
          ],
          "histogram2d": [
           {
            "colorbar": {
             "outlinewidth": 0,
             "ticks": ""
            },
            "colorscale": [
             [
              0,
              "#0d0887"
             ],
             [
              0.1111111111111111,
              "#46039f"
             ],
             [
              0.2222222222222222,
              "#7201a8"
             ],
             [
              0.3333333333333333,
              "#9c179e"
             ],
             [
              0.4444444444444444,
              "#bd3786"
             ],
             [
              0.5555555555555556,
              "#d8576b"
             ],
             [
              0.6666666666666666,
              "#ed7953"
             ],
             [
              0.7777777777777778,
              "#fb9f3a"
             ],
             [
              0.8888888888888888,
              "#fdca26"
             ],
             [
              1,
              "#f0f921"
             ]
            ],
            "type": "histogram2d"
           }
          ],
          "histogram2dcontour": [
           {
            "colorbar": {
             "outlinewidth": 0,
             "ticks": ""
            },
            "colorscale": [
             [
              0,
              "#0d0887"
             ],
             [
              0.1111111111111111,
              "#46039f"
             ],
             [
              0.2222222222222222,
              "#7201a8"
             ],
             [
              0.3333333333333333,
              "#9c179e"
             ],
             [
              0.4444444444444444,
              "#bd3786"
             ],
             [
              0.5555555555555556,
              "#d8576b"
             ],
             [
              0.6666666666666666,
              "#ed7953"
             ],
             [
              0.7777777777777778,
              "#fb9f3a"
             ],
             [
              0.8888888888888888,
              "#fdca26"
             ],
             [
              1,
              "#f0f921"
             ]
            ],
            "type": "histogram2dcontour"
           }
          ],
          "mesh3d": [
           {
            "colorbar": {
             "outlinewidth": 0,
             "ticks": ""
            },
            "type": "mesh3d"
           }
          ],
          "parcoords": [
           {
            "line": {
             "colorbar": {
              "outlinewidth": 0,
              "ticks": ""
             }
            },
            "type": "parcoords"
           }
          ],
          "pie": [
           {
            "automargin": true,
            "type": "pie"
           }
          ],
          "scatter": [
           {
            "marker": {
             "line": {
              "color": "#283442"
             }
            },
            "type": "scatter"
           }
          ],
          "scatter3d": [
           {
            "line": {
             "colorbar": {
              "outlinewidth": 0,
              "ticks": ""
             }
            },
            "marker": {
             "colorbar": {
              "outlinewidth": 0,
              "ticks": ""
             }
            },
            "type": "scatter3d"
           }
          ],
          "scattercarpet": [
           {
            "marker": {
             "colorbar": {
              "outlinewidth": 0,
              "ticks": ""
             }
            },
            "type": "scattercarpet"
           }
          ],
          "scattergeo": [
           {
            "marker": {
             "colorbar": {
              "outlinewidth": 0,
              "ticks": ""
             }
            },
            "type": "scattergeo"
           }
          ],
          "scattergl": [
           {
            "marker": {
             "line": {
              "color": "#283442"
             }
            },
            "type": "scattergl"
           }
          ],
          "scattermapbox": [
           {
            "marker": {
             "colorbar": {
              "outlinewidth": 0,
              "ticks": ""
             }
            },
            "type": "scattermapbox"
           }
          ],
          "scatterpolar": [
           {
            "marker": {
             "colorbar": {
              "outlinewidth": 0,
              "ticks": ""
             }
            },
            "type": "scatterpolar"
           }
          ],
          "scatterpolargl": [
           {
            "marker": {
             "colorbar": {
              "outlinewidth": 0,
              "ticks": ""
             }
            },
            "type": "scatterpolargl"
           }
          ],
          "scatterternary": [
           {
            "marker": {
             "colorbar": {
              "outlinewidth": 0,
              "ticks": ""
             }
            },
            "type": "scatterternary"
           }
          ],
          "surface": [
           {
            "colorbar": {
             "outlinewidth": 0,
             "ticks": ""
            },
            "colorscale": [
             [
              0,
              "#0d0887"
             ],
             [
              0.1111111111111111,
              "#46039f"
             ],
             [
              0.2222222222222222,
              "#7201a8"
             ],
             [
              0.3333333333333333,
              "#9c179e"
             ],
             [
              0.4444444444444444,
              "#bd3786"
             ],
             [
              0.5555555555555556,
              "#d8576b"
             ],
             [
              0.6666666666666666,
              "#ed7953"
             ],
             [
              0.7777777777777778,
              "#fb9f3a"
             ],
             [
              0.8888888888888888,
              "#fdca26"
             ],
             [
              1,
              "#f0f921"
             ]
            ],
            "type": "surface"
           }
          ],
          "table": [
           {
            "cells": {
             "fill": {
              "color": "#506784"
             },
             "line": {
              "color": "rgb(17,17,17)"
             }
            },
            "header": {
             "fill": {
              "color": "#2a3f5f"
             },
             "line": {
              "color": "rgb(17,17,17)"
             }
            },
            "type": "table"
           }
          ]
         },
         "layout": {
          "annotationdefaults": {
           "arrowcolor": "#f2f5fa",
           "arrowhead": 0,
           "arrowwidth": 1
          },
          "autotypenumbers": "strict",
          "coloraxis": {
           "colorbar": {
            "outlinewidth": 0,
            "ticks": ""
           }
          },
          "colorscale": {
           "diverging": [
            [
             0,
             "#8e0152"
            ],
            [
             0.1,
             "#c51b7d"
            ],
            [
             0.2,
             "#de77ae"
            ],
            [
             0.3,
             "#f1b6da"
            ],
            [
             0.4,
             "#fde0ef"
            ],
            [
             0.5,
             "#f7f7f7"
            ],
            [
             0.6,
             "#e6f5d0"
            ],
            [
             0.7,
             "#b8e186"
            ],
            [
             0.8,
             "#7fbc41"
            ],
            [
             0.9,
             "#4d9221"
            ],
            [
             1,
             "#276419"
            ]
           ],
           "sequential": [
            [
             0,
             "#0d0887"
            ],
            [
             0.1111111111111111,
             "#46039f"
            ],
            [
             0.2222222222222222,
             "#7201a8"
            ],
            [
             0.3333333333333333,
             "#9c179e"
            ],
            [
             0.4444444444444444,
             "#bd3786"
            ],
            [
             0.5555555555555556,
             "#d8576b"
            ],
            [
             0.6666666666666666,
             "#ed7953"
            ],
            [
             0.7777777777777778,
             "#fb9f3a"
            ],
            [
             0.8888888888888888,
             "#fdca26"
            ],
            [
             1,
             "#f0f921"
            ]
           ],
           "sequentialminus": [
            [
             0,
             "#0d0887"
            ],
            [
             0.1111111111111111,
             "#46039f"
            ],
            [
             0.2222222222222222,
             "#7201a8"
            ],
            [
             0.3333333333333333,
             "#9c179e"
            ],
            [
             0.4444444444444444,
             "#bd3786"
            ],
            [
             0.5555555555555556,
             "#d8576b"
            ],
            [
             0.6666666666666666,
             "#ed7953"
            ],
            [
             0.7777777777777778,
             "#fb9f3a"
            ],
            [
             0.8888888888888888,
             "#fdca26"
            ],
            [
             1,
             "#f0f921"
            ]
           ]
          },
          "colorway": [
           "#636efa",
           "#EF553B",
           "#00cc96",
           "#ab63fa",
           "#FFA15A",
           "#19d3f3",
           "#FF6692",
           "#B6E880",
           "#FF97FF",
           "#FECB52"
          ],
          "font": {
           "color": "#f2f5fa"
          },
          "geo": {
           "bgcolor": "rgb(17,17,17)",
           "lakecolor": "rgb(17,17,17)",
           "landcolor": "rgb(17,17,17)",
           "showlakes": true,
           "showland": true,
           "subunitcolor": "#506784"
          },
          "hoverlabel": {
           "align": "left"
          },
          "hovermode": "closest",
          "mapbox": {
           "style": "dark"
          },
          "paper_bgcolor": "rgb(17,17,17)",
          "plot_bgcolor": "rgb(17,17,17)",
          "polar": {
           "angularaxis": {
            "gridcolor": "#506784",
            "linecolor": "#506784",
            "ticks": ""
           },
           "bgcolor": "rgb(17,17,17)",
           "radialaxis": {
            "gridcolor": "#506784",
            "linecolor": "#506784",
            "ticks": ""
           }
          },
          "scene": {
           "xaxis": {
            "backgroundcolor": "rgb(17,17,17)",
            "gridcolor": "#506784",
            "gridwidth": 2,
            "linecolor": "#506784",
            "showbackground": true,
            "ticks": "",
            "zerolinecolor": "#C8D4E3"
           },
           "yaxis": {
            "backgroundcolor": "rgb(17,17,17)",
            "gridcolor": "#506784",
            "gridwidth": 2,
            "linecolor": "#506784",
            "showbackground": true,
            "ticks": "",
            "zerolinecolor": "#C8D4E3"
           },
           "zaxis": {
            "backgroundcolor": "rgb(17,17,17)",
            "gridcolor": "#506784",
            "gridwidth": 2,
            "linecolor": "#506784",
            "showbackground": true,
            "ticks": "",
            "zerolinecolor": "#C8D4E3"
           }
          },
          "shapedefaults": {
           "line": {
            "color": "#f2f5fa"
           }
          },
          "sliderdefaults": {
           "bgcolor": "#C8D4E3",
           "bordercolor": "rgb(17,17,17)",
           "borderwidth": 1,
           "tickwidth": 0
          },
          "ternary": {
           "aaxis": {
            "gridcolor": "#506784",
            "linecolor": "#506784",
            "ticks": ""
           },
           "baxis": {
            "gridcolor": "#506784",
            "linecolor": "#506784",
            "ticks": ""
           },
           "bgcolor": "rgb(17,17,17)",
           "caxis": {
            "gridcolor": "#506784",
            "linecolor": "#506784",
            "ticks": ""
           }
          },
          "title": {
           "x": 0.05
          },
          "updatemenudefaults": {
           "bgcolor": "#506784",
           "borderwidth": 0
          },
          "xaxis": {
           "automargin": true,
           "gridcolor": "#283442",
           "linecolor": "#506784",
           "ticks": "",
           "title": {
            "standoff": 15
           },
           "zerolinecolor": "#283442",
           "zerolinewidth": 2
          },
          "yaxis": {
           "automargin": true,
           "gridcolor": "#283442",
           "linecolor": "#506784",
           "ticks": "",
           "title": {
            "standoff": 15
           },
           "zerolinecolor": "#283442",
           "zerolinewidth": 2
          }
         }
        },
        "title": {
         "text": "Training and Validation Accuracy"
        },
        "xaxis": {
         "anchor": "y",
         "domain": [
          0,
          1
         ],
         "title": {
          "text": "x"
         }
        },
        "yaxis": {
         "anchor": "x",
         "domain": [
          0,
          1
         ],
         "title": {
          "text": "value"
         }
        }
       }
      }
     },
     "metadata": {},
     "output_type": "display_data"
    },
    {
     "data": {
      "text/plain": [
       "<Figure size 1200x600 with 0 Axes>"
      ]
     },
     "metadata": {},
     "output_type": "display_data"
    }
   ],
   "source": [
    "plt.figure(figsize = (12, 6))\n",
    "\n",
    "train_acc = model_history.history['accuracy']\n",
    "val_acc = model_history.history['val_accuracy'] \n",
    "epoch = range(1, 51)\n",
    "\n",
    "\n",
    "accuracy = pd.DataFrame({'train_acc' : train_acc, 'val_acc' : val_acc})\n",
    "\n",
    "px.line(data_frame = accuracy, x = epoch, y = ['val_acc', 'train_acc'], title = 'Training and Validation Accuracy',\n",
    "        template = 'plotly_dark')"
   ]
  },
  {
   "cell_type": "code",
   "execution_count": 73,
   "metadata": {},
   "outputs": [
    {
     "name": "stdout",
     "output_type": "stream",
     "text": [
      "91/91 [==============================] - 0s 1ms/step - loss: 1870.5270 - accuracy: 0.9426\n",
      "Accuracy of model is 0.9425919651985168\n"
     ]
    }
   ],
   "source": [
    "acc_ann = model.evaluate(X_test, y_test)[1]\n",
    "print(f'Accuracy of model is {acc_ann}')"
   ]
  }
 ],
 "metadata": {
  "kernelspec": {
   "display_name": "Python 3",
   "language": "python",
   "name": "python3"
  },
  "language_info": {
   "codemirror_mode": {
    "name": "ipython",
    "version": 3
   },
   "file_extension": ".py",
   "mimetype": "text/x-python",
   "name": "python",
   "nbconvert_exporter": "python",
   "pygments_lexer": "ipython3",
   "version": "3.11.4"
  }
 },
 "nbformat": 4,
 "nbformat_minor": 2
}
